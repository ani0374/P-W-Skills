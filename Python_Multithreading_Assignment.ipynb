{
 "cells": [
  {
   "cell_type": "markdown",
   "id": "79fa5ef9-20d0-4392-9e55-fce36037a682",
   "metadata": {},
   "source": [
    "Q1.What is multithreading in python? Why is it used? Name the module used to handle threads in python"
   ]
  },
  {
   "cell_type": "markdown",
   "id": "fa132a06-afc0-4511-b76f-3926b9952530",
   "metadata": {},
   "source": [
    "Multithreading is a programming technique that allows multiple tasks to be executed concurrently within a single program. This can be used to improve the performance of a program by allowing multiple tasks to be executed simultaneously.\n",
    "Multithreading is used to:\n",
    "\n",
    "1.Enhance concurrency and responsiveness in programs.\n",
    "2.Handle I/O-bound tasks efficiently.\n",
    "3.Divide large tasks into smaller, parallel subtasks.\n",
    "4.Create more interactive and responsive applications."
   ]
  },
  {
   "cell_type": "markdown",
   "id": "2d11e1e3-7d42-4161-bc69-70d0fbed4265",
   "metadata": {},
   "source": [
    "Q2.Why threading module used? Write the use of the following functions\n",
    "( activeCount\n",
    " currentThread\n",
    " enumerate)"
   ]
  },
  {
   "cell_type": "markdown",
   "id": "302d25b5-83f3-49fd-8bfa-1839b2d97475",
   "metadata": {},
   "source": [
    "The threading module in Python is used to handle threads and manage concurrency within a program. It provides a high-level interface for creating, starting, and managing threads.\n",
    "\n",
    "The following are the uses of the threading module functions mentioned in your question:\n",
    "\n",
    "activeCount(): This function returns the number of active threads in the current thread's thread group. A thread is considered active if it has been started but has not yet terminated.\n",
    "currentThread(): This function returns the current thread object. The current thread object is a reference to the thread that is currently executing.\n",
    "enumerate(): This function returns a list of all thread objects that are currently active. The list includes both the main thread and any other threads that have been created."
   ]
  },
  {
   "cell_type": "markdown",
   "id": "39cc3df5-bde2-47b8-9782-60e5e05cf8c3",
   "metadata": {},
   "source": [
    "Q3. Explain the following functions\n",
    "( run\n",
    " start\n",
    " join\n",
    " isAlive)"
   ]
  },
  {
   "cell_type": "markdown",
   "id": "bbd0622f-02b8-431e-8952-947fbf8c554f",
   "metadata": {},
   "source": [
    "1.run(): This function is the entry point for a thread. It is called by the start() function. The run() function is responsible for executing the code that is associated with the thread.\n",
    "\n",
    "2.start(): This function starts a thread. It calls the run() function in the background. The start() function must be called before the thread can start executing.\n",
    "\n",
    "3.join(): This function waits for a thread to terminate. The join() function blocks the calling thread until the thread that is being joined terminates.\n",
    "\n",
    "4.isAlive(): This function checks if a thread is alive. A thread is considered alive if it has been started but has not yet terminated."
   ]
  },
  {
   "cell_type": "markdown",
   "id": "574252d8-43c1-4424-8772-6536bd022f7c",
   "metadata": {},
   "source": [
    "Q4. Write a python program to create two threads. Thread one must print the list of squares and thread two must print the list of cubes"
   ]
  },
  {
   "cell_type": "code",
   "execution_count": null,
   "id": "036a76a3-3293-41bb-b44e-91383c0136f3",
   "metadata": {},
   "outputs": [],
   "source": [
    "import threading\n",
    "\n",
    "def print_squares(numbers):\n",
    "    for num in numbers:\n",
    "        print(f\"Square of {num}: {num**2}\")\n",
    "\n",
    "def print_cubes(numbers):\n",
    "    for num in numbers:\n",
    "        print(f\"Cube of {num}: {num**3}\")\n",
    "\n",
    "if __name__ == \"__main__\":\n",
    "    numbers = [1, 2, 3, 4, 5]\n",
    "\n",
    "    thread1 = threading.Thread(target=print_squares, args=(numbers,))\n",
    "    thread2 = threading.Thread(target=print_cubes, args=(numbers,))\n",
    "\n",
    "    thread1.start()\n",
    "    thread2.start()\n",
    "\n",
    "    thread1.join()\n",
    "    thread2.join()\n",
    "\n",
    "    print(\"Both threads have finished.\")\n"
   ]
  },
  {
   "cell_type": "markdown",
   "id": "540b81d9-edd9-4a5d-8e10-79dd3847b74a",
   "metadata": {},
   "source": [
    "Q5. State advantages and disadvantages of multithreading"
   ]
  },
  {
   "cell_type": "markdown",
   "id": "a8e659ab-2663-4d8f-87c3-040559d3b522",
   "metadata": {},
   "source": [
    "Advantages of Multithreading:\n",
    "\n",
    "Concurrency and Performance: Enables multiple tasks to run concurrently,utilizing available CPU cores for improved performance.\n",
    "\n",
    "Parallelism: Achieves parallel execution of independent tasks, leading to faster processing.\n",
    "\n",
    "Resource Sharing: Threads share memory space for efficient data sharing and communication.\n",
    "\n",
    "Responsive User Interfaces: Keeps UI responsive by offloading time-consuming tasks to separate threads.\n",
    "\n",
    "Disadvantages of Multithreading:\n",
    "\n",
    "Complexity: Designing, debugging, and managing multithreaded programs is more complex.\n",
    "\n",
    "Race Conditions: Simultaneous access to shared resources can lead to unpredictable outcomes.\n",
    "\n",
    "Deadlocks: Threads can deadlock when they wait indefinitely for resources held by others.\n",
    "\n",
    "Overhead: Threads consume resources and entail context-switching overhead.\n",
    "\n",
    "Debugging Challenges: Identifying and reproducing race conditions can be difficult."
   ]
  },
  {
   "cell_type": "markdown",
   "id": "814cb540-6855-4fdc-92d2-9e7e8b0ba40f",
   "metadata": {},
   "source": [
    "Q6. Explain deadlocks and race conditions."
   ]
  },
  {
   "cell_type": "markdown",
   "id": "58d019ff-2721-4719-bfd5-259c7d036a77",
   "metadata": {},
   "source": [
    "A deadlock is a situation in which two computer programs sharing the same resource are effectively preventing each other from accessing the resource, resulting in both programs ceasing to function. The earliest computer operating systems ran only one program at a time.\n",
    "\n",
    "A race condition is an undesirable situation that occurs when a device or system attempts to perform two or more operations at the same time, but because of the nature of the device or system, the operations must be done in the proper sequence to be done correctly.\n",
    "\n",
    "Race conditions are most commonly associated with computer science and programming. They occur when two computer program processes, or threads, attempt to access the same resource at the same time and cause problems in the system.\n",
    "\n",
    "Race conditions are considered a common issue for multithreaded applications."
   ]
  }
 ],
 "metadata": {
  "kernelspec": {
   "display_name": "Python 3 (ipykernel)",
   "language": "python",
   "name": "python3"
  },
  "language_info": {
   "codemirror_mode": {
    "name": "ipython",
    "version": 3
   },
   "file_extension": ".py",
   "mimetype": "text/x-python",
   "name": "python",
   "nbconvert_exporter": "python",
   "pygments_lexer": "ipython3",
   "version": "3.10.8"
  }
 },
 "nbformat": 4,
 "nbformat_minor": 5
}
