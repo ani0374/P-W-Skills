{
 "cells": [
  {
   "cell_type": "markdown",
   "id": "2caaff03-ca16-4336-8aef-b4d44e25a823",
   "metadata": {},
   "source": [
    "Q1. What is a database? Differentiate between SQL and NoSQL databases."
   ]
  },
  {
   "cell_type": "markdown",
   "id": "053ce65d-7ede-4212-942f-38a8765885ba",
   "metadata": {},
   "source": [
    "A database is a structured collection of data that is organized, stored, and managed in a way that allows for efficient retrieval, manipulation, and querying of the data. Databases are used to store and manage large amounts of information for various purposes, such as applications, websites, and analytics."
   ]
  },
  {
   "cell_type": "markdown",
   "id": "92e98b47-662f-47d7-bdea-855a61d40436",
   "metadata": {},
   "source": [
    "SQL Databases:\n",
    "\n",
    "Relational data model with tables.\n",
    "Fixed schema, rigid structure.\n",
    "ACID compliance for data integrity.\n",
    "Suitable for structured data and complex queries.\n",
    "Best for applications requiring well-defined relationships.\n",
    "NoSQL Databases:\n",
    "\n",
    "Various data models (document, key-value, etc.).\n",
    "Flexible schema, adaptable structure.\n",
    "Emphasize scalability and performance.\n",
    "Suited for unstructured or rapidly changing data.\n",
    "Ideal for applications needing high scalability and quick development."
   ]
  },
  {
   "cell_type": "markdown",
   "id": "3d19165d-25c2-4e98-afcf-489851e2e0c5",
   "metadata": {},
   "source": [
    "Q2. What is DDL? Explain why CREATE, DROP, ALTER, and TRUNCATE are used with an example."
   ]
  },
  {
   "cell_type": "markdown",
   "id": "027ed8bb-6ef3-4947-b8eb-2420c49a5476",
   "metadata": {},
   "source": [
    "DDL stands for Data Definition Language, which is a subset of SQL (Structured Query Language) used to define and manage the structure of a database, including creating, altering, and deleting database objects like tables, indexes, and constraints.\n",
    "\n",
    "Here are explanations and examples for the DDL commands you mentioned:\n",
    "\n",
    "CREATE:\n",
    "\n",
    "Purpose: Used to create new database objects, such as tables, indexes, and views.\n",
    "\n",
    "Example: Creating a table named \"Employees\" with columns for ID, name, and salary:"
   ]
  },
  {
   "cell_type": "code",
   "execution_count": 1,
   "id": "b52f9ffc-bcef-4c18-8577-7dae68d7dc84",
   "metadata": {},
   "outputs": [
    {
     "ename": "SyntaxError",
     "evalue": "invalid syntax (3674241040.py, line 1)",
     "output_type": "error",
     "traceback": [
      "\u001b[0;36m  Cell \u001b[0;32mIn[1], line 1\u001b[0;36m\u001b[0m\n\u001b[0;31m    CREATE TABLE Employees (\u001b[0m\n\u001b[0m           ^\u001b[0m\n\u001b[0;31mSyntaxError\u001b[0m\u001b[0;31m:\u001b[0m invalid syntax\n"
     ]
    }
   ],
   "source": [
    "CREATE TABLE Employees (\n",
    "    ID INT PRIMARY KEY,\n",
    "    Name VARCHAR(50),\n",
    "    Salary DECIMAL(10, 2)\n",
    ");"
   ]
  },
  {
   "cell_type": "markdown",
   "id": "37794f0e-2a35-461c-abae-70cadfe0ddfa",
   "metadata": {},
   "source": [
    "DROP:\n",
    "\n",
    "Purpose: Used to delete existing database objects, such as tables or indexes.\n",
    "\n",
    "Example: Dropping the \"Employees\" table:"
   ]
  },
  {
   "cell_type": "markdown",
   "id": "8f2c2ddf-58f7-45d1-bc0c-c97fe66b704e",
   "metadata": {},
   "source": [
    "ALTER:\n",
    "\n",
    "Purpose: Used to modify the structure of an existing database object, such as adding, modifying, or deleting columns.\n",
    "\n",
    "Example: Adding a new column \"Department\" to the \"Employees\" table:\n",
    "\n"
   ]
  },
  {
   "cell_type": "code",
   "execution_count": null,
   "id": "8be57290-86e8-4b1d-a3a3-6af538ce2690",
   "metadata": {},
   "outputs": [],
   "source": [
    "\n",
    "ALTER TABLE Employees\n",
    "ADD Department VARCHAR(50);"
   ]
  },
  {
   "cell_type": "markdown",
   "id": "1833e3bc-d48e-4b5b-b455-1f366587d98b",
   "metadata": {},
   "source": [
    "TRUNCATE:\n",
    "\n",
    "Purpose: Used to remove all rows from a table quickly while keeping the table structure intact.\n",
    "\n",
    "Example: Truncating the \"Employees\" table to remove all records:"
   ]
  },
  {
   "cell_type": "code",
   "execution_count": 3,
   "id": "ab975cc1-4acb-418f-a022-fe7d1f9f3e2f",
   "metadata": {},
   "outputs": [
    {
     "ename": "SyntaxError",
     "evalue": "invalid syntax (3066608949.py, line 1)",
     "output_type": "error",
     "traceback": [
      "\u001b[0;36m  Cell \u001b[0;32mIn[3], line 1\u001b[0;36m\u001b[0m\n\u001b[0;31m    TRUNCATE TABLE Employees;\u001b[0m\n\u001b[0m             ^\u001b[0m\n\u001b[0;31mSyntaxError\u001b[0m\u001b[0;31m:\u001b[0m invalid syntax\n"
     ]
    }
   ],
   "source": [
    "TRUNCATE TABLE Employees;"
   ]
  },
  {
   "cell_type": "markdown",
   "id": "7e89c848-746b-48d4-8402-e6d5557fa391",
   "metadata": {},
   "source": [
    "Q3. What is DML? Explain INSERT, UPDATE, and DELETE with an example."
   ]
  },
  {
   "cell_type": "markdown",
   "id": "443c55c7-c88a-46dd-ae1d-209ab2f972f2",
   "metadata": {},
   "source": [
    "DML stands for Data Manipulation Language, which is a subset of SQL (Structured Query Language) used to manipulate data within a database. DML commands are responsible for inserting, updating, and deleting data in database tables.\n",
    "Here are explanations and examples for the DML commands you mentioned:\n",
    "\n",
    "INSERT:\n",
    "\n",
    "Purpose: Used to insert new records into a database table.\n",
    "\n",
    "Example: Inserting a new employee record into an \"Employees\" table:"
   ]
  },
  {
   "cell_type": "markdown",
   "id": "a636a1e3-ea97-4de8-b82e-bd464cee6008",
   "metadata": {},
   "source": [
    "INSERT INTO Employees (EmployeeID, FirstName, LastName, Salary)\n",
    "VALUES (101, 'John', 'Doe', 50000);\n"
   ]
  },
  {
   "cell_type": "markdown",
   "id": "9c7d84fe-ee12-43c2-9066-b034cf5396f3",
   "metadata": {},
   "source": [
    "UPDATE:\n",
    "\n",
    "Purpose: Used to modify existing records in a database table.\n",
    "Example: Updating the salary of an employee with ID 101 in the \"Employees\" table:"
   ]
  },
  {
   "cell_type": "code",
   "execution_count": 6,
   "id": "58d1d92d-b36f-4031-9cb7-301007e0626b",
   "metadata": {},
   "outputs": [
    {
     "ename": "SyntaxError",
     "evalue": "invalid syntax (2739399584.py, line 1)",
     "output_type": "error",
     "traceback": [
      "\u001b[0;36m  Cell \u001b[0;32mIn[6], line 1\u001b[0;36m\u001b[0m\n\u001b[0;31m    UPDATE Employees\u001b[0m\n\u001b[0m           ^\u001b[0m\n\u001b[0;31mSyntaxError\u001b[0m\u001b[0;31m:\u001b[0m invalid syntax\n"
     ]
    }
   ],
   "source": [
    "UPDATE Employees\n",
    "SET Salary = 55000\n",
    "WHERE EmployeeID = 101;\n"
   ]
  },
  {
   "cell_type": "markdown",
   "id": "20ce1e4b-7c97-48fd-99c3-893962d181ee",
   "metadata": {},
   "source": [
    "DELETE:\n",
    "\n",
    "Purpose: Used to delete records from a database table.\n",
    "Example: Deleting an employee with ID 101 from the \"Employees\" table:"
   ]
  },
  {
   "cell_type": "code",
   "execution_count": 7,
   "id": "24bd36bc-13e3-4c4b-b8f1-24256b5c63e4",
   "metadata": {},
   "outputs": [
    {
     "ename": "SyntaxError",
     "evalue": "invalid syntax (3060304927.py, line 1)",
     "output_type": "error",
     "traceback": [
      "\u001b[0;36m  Cell \u001b[0;32mIn[7], line 1\u001b[0;36m\u001b[0m\n\u001b[0;31m    DELETE FROM Employees\u001b[0m\n\u001b[0m           ^\u001b[0m\n\u001b[0;31mSyntaxError\u001b[0m\u001b[0;31m:\u001b[0m invalid syntax\n"
     ]
    }
   ],
   "source": [
    "DELETE FROM Employees\n",
    "WHERE EmployeeID = 101;\n"
   ]
  },
  {
   "cell_type": "markdown",
   "id": "c4354882-d176-4729-89d0-0481dd010be9",
   "metadata": {},
   "source": [
    "Q4. What is DQL? Explain SELECT with an example."
   ]
  },
  {
   "cell_type": "markdown",
   "id": "d01b1591-2f27-41ad-a77c-172d397c335c",
   "metadata": {},
   "source": [
    "DQL (Data Query Language) is a subset of SQL used to retrieve data from a database. The primary command in DQL is SELECT, which retrieves specific columns and rows from a table based on conditions."
   ]
  },
  {
   "cell_type": "markdown",
   "id": "043e210a-78b2-4cc3-bcbf-16be4fcbf889",
   "metadata": {},
   "source": [
    "Example:\n",
    "Suppose you have a table named \"Products\" with columns \"ProductID,\" \"ProductName,\" \"Price,\" and \"Category.\" You want to retrieve the names and prices of products in the \"Electronics\" category."
   ]
  },
  {
   "cell_type": "code",
   "execution_count": 4,
   "id": "3952fdef-4f5e-4b30-9b5b-b53789b01f99",
   "metadata": {},
   "outputs": [
    {
     "ename": "SyntaxError",
     "evalue": "invalid syntax (537208280.py, line 1)",
     "output_type": "error",
     "traceback": [
      "\u001b[0;36m  Cell \u001b[0;32mIn[4], line 1\u001b[0;36m\u001b[0m\n\u001b[0;31m    SELECT ProductName, Price\u001b[0m\n\u001b[0m           ^\u001b[0m\n\u001b[0;31mSyntaxError\u001b[0m\u001b[0;31m:\u001b[0m invalid syntax\n"
     ]
    }
   ],
   "source": [
    "SELECT ProductName, Price\n",
    "FROM Products\n",
    "WHERE Category = 'Electronics';"
   ]
  },
  {
   "cell_type": "markdown",
   "id": "2a7135fb-be64-497d-aac5-ca8179316090",
   "metadata": {},
   "source": [
    "Q5. Explain Primary Key and Foreign Key."
   ]
  },
  {
   "cell_type": "markdown",
   "id": "750a76d5-8ea1-4419-a853-4bd7227263c7",
   "metadata": {},
   "source": [
    "Primary Key:\n",
    "A primary key is a column or set of columns in a database table that uniquely identifies each record in that table. It ensures that there are no duplicate or null values in the key column(s), thereby providing a reliable way to uniquely identify each row. Primary keys are crucial for maintaining data integrity and for establishing relationships between tables."
   ]
  },
  {
   "cell_type": "raw",
   "id": "414f229a-9d41-455c-a0ce-9e7a6ac65624",
   "metadata": {},
   "source": [
    "characteristics of a primary key - unique,Not null, Single or composite , Fixed."
   ]
  },
  {
   "cell_type": "markdown",
   "id": "6f80cec5-ca36-4c24-b9ca-bd9211ff1eb3",
   "metadata": {},
   "source": [
    "Foreign Key:\n",
    "A foreign key is a column in a database table that establishes a link between the data in two tables. It creates a relationship by referencing the primary key column(s) of another table. Foreign keys are used to maintain referential integrity and to enforce relationships between tables."
   ]
  },
  {
   "cell_type": "markdown",
   "id": "58d6e403-69aa-4cc8-83e7-e2f3efaef038",
   "metadata": {},
   "source": [
    "characteristice of a foreign key:\n",
    "    References primary key, Ensures Integrity ,Represents Relationships"
   ]
  },
  {
   "cell_type": "markdown",
   "id": "705c43c3-15a5-4f63-85d8-6ff599f04e91",
   "metadata": {},
   "source": [
    "Q6. Write a python code to connect MySQL to python. Explain the cursor() and execute() method."
   ]
  },
  {
   "cell_type": "code",
   "execution_count": null,
   "id": "d2819765-ccd2-476c-a5b6-0aec5714ef78",
   "metadata": {},
   "outputs": [],
   "source": [
    "`import mysql.connector\n",
    "\n",
    "\n",
    "mydb = mysql.connector.connect(\n",
    "    host=\"localhost\",\n",
    "    user=\"username\",\n",
    "    password=\"password\",\n",
    "    database=\"mydatabase\"\n",
    ")\n",
    "\n",
    "\n",
    "cursor = mydb.cursor()\n",
    "query = \"SELECT * FROM employees\"\n",
    "cursor.execute(query)\n",
    "\n",
    "result = cursor.fetchall()\n",
    "\n",
    "for row in result:\n",
    "    print(row)\n",
    "\n",
    "cursor.close()\n",
    "mydb.close()\n"
   ]
  },
  {
   "cell_type": "markdown",
   "id": "8f676b41-07ce-4a79-838f-1dc166a496d0",
   "metadata": {},
   "source": [
    "cursor() Method:\n",
    "The cursor() method is used to create a cursor object, which is an essential component for interacting with databases. A cursor acts as a handle or pointer to the result set of a query. It allows you to execute SQL statements, retrieve data from the database, and manage transactions.\n",
    "\n",
    "execute() Method:\n",
    "The execute() method is used to execute SQL statements, such as SELECT, INSERT, UPDATE, DELETE, etc., using the cursor. It takes an SQL query as an argument and performs the specified action on the database."
   ]
  },
  {
   "cell_type": "markdown",
   "id": "56adf1c1-073a-4337-8c4d-b89add63cd14",
   "metadata": {},
   "source": [
    "Q7. Give the order of execution of SQL clauses in an SQL query."
   ]
  },
  {
   "cell_type": "markdown",
   "id": "bda5a183-a53e-4a43-929b-44f6cf90ad2d",
   "metadata": {},
   "source": [
    "In a concise form, the order of execution of SQL clauses in a query is as follows:\n",
    "\n",
    "FROM\n",
    "WHERE\n",
    "GROUP BY\n",
    "HAVING\n",
    "SELECT\n",
    "DISTINCT\n",
    "ORDER BY\n",
    "LIMIT/OFFSET (or FETCH/FIRST)\n",
    "UNION/INTERSECT/EXCEPT "
   ]
  },
  {
   "cell_type": "code",
   "execution_count": null,
   "id": "6f18f53f-bb81-410b-a4a1-82f476563589",
   "metadata": {},
   "outputs": [],
   "source": []
  }
 ],
 "metadata": {
  "kernelspec": {
   "display_name": "Python 3 (ipykernel)",
   "language": "python",
   "name": "python3"
  },
  "language_info": {
   "codemirror_mode": {
    "name": "ipython",
    "version": 3
   },
   "file_extension": ".py",
   "mimetype": "text/x-python",
   "name": "python",
   "nbconvert_exporter": "python",
   "pygments_lexer": "ipython3",
   "version": "3.10.8"
  }
 },
 "nbformat": 4,
 "nbformat_minor": 5
}
