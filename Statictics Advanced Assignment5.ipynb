{
 "cells": [
  {
   "cell_type": "markdown",
   "id": "5b1c6d7c-a688-4fef-bab6-47628ad1db4c",
   "metadata": {},
   "source": [
    "Q1. Calculate the 95% confidence interval for a sample of data with a mean of 50 and a standard deviation\n",
    "of 5 using Python. Interpret the results."
   ]
  },
  {
   "cell_type": "code",
   "execution_count": 1,
   "id": "125043c3-1102-4905-afc7-4e9cb50c899b",
   "metadata": {},
   "outputs": [
    {
     "name": "stdout",
     "output_type": "stream",
     "text": [
      "95% Confidence Interval: (48.1329693162095, 51.8670306837905)\n"
     ]
    }
   ],
   "source": [
    "import scipy.stats as stats\n",
    "\n",
    "sample_mean = 50\n",
    "sample_stddev = 5\n",
    "\n",
    "sample_size = 30 \n",
    "\n",
    "confidence_level = 0.95\n",
    "\n",
    "margin_of_error = stats.t.ppf((1 + confidence_level) / 2, df=sample_size - 1) * (sample_stddev / (sample_size ** 0.5))\n",
    "\n",
    "confidence_interval = (sample_mean - margin_of_error, sample_mean + margin_of_error)\n",
    "\n",
    "print(\"95% Confidence Interval:\", confidence_interval)\n"
   ]
  },
  {
   "cell_type": "markdown",
   "id": "16d9d857-9c95-41ee-8906-ed09745bdded",
   "metadata": {},
   "source": [
    "Interpretation:\n",
    "In this example, with a sample mean of 50 and a standard deviation of 5, you can be 95% confident that the true population mean falls within the confidence interval. The confidence interval provides a range of values within which the population mean is likely to be. So, you can say with 95% confidence that the population mean lies between the lower and upper bounds of the confidence interval."
   ]
  },
  {
   "cell_type": "markdown",
   "id": "b343a808-b020-49d1-9abb-a964260b4c9e",
   "metadata": {},
   "source": [
    "Q2. Conduct a chi-square goodness of fit test to determine if the distribution of colors of M&Ms in a bag\n",
    "matches the expected distribution of 20% blue, 20% orange, 20% green, 10% yellow, 10% red, and 20%\n",
    "brown. Use Python to perform the test with a significance level of 0.05."
   ]
  },
  {
   "cell_type": "code",
   "execution_count": 2,
   "id": "00c878f3-2178-42a5-bf9b-c6293cb179fc",
   "metadata": {},
   "outputs": [
    {
     "name": "stdout",
     "output_type": "stream",
     "text": [
      "Fail to reject the null hypothesis. The distribution of M&M colors matches the expected distribution.\n"
     ]
    }
   ],
   "source": [
    "import scipy.stats as stats\n",
    "\n",
    "observed_frequencies = [45, 43, 50, 22, 20, 40]  \n",
    "\n",
    "expected_frequencies = [0.2, 0.2, 0.2, 0.1, 0.1, 0.2]  \n",
    "total_observations = sum(observed_frequencies)\n",
    "\n",
    "expected_counts = [total_observations * p for p in expected_frequencies]\n",
    "\n",
    "chi_squared, p_value = stats.chisquare(f_obs=observed_frequencies, f_exp=expected_counts, ddof=len(observed_frequencies) - 1)\n",
    "\n",
    "alpha = 0.05\n",
    "\n",
    "if p_value < alpha:\n",
    "    print(\"Reject the null hypothesis. The distribution of M&M colors does not match the expected distribution.\")\n",
    "else:\n",
    "    print(\"Fail to reject the null hypothesis. The distribution of M&M colors matches the expected distribution.\")\n"
   ]
  },
  {
   "cell_type": "markdown",
   "id": "e15d1eef-113b-47f0-af19-b28654aadd9e",
   "metadata": {},
   "source": [
    "Q3. Use Python to calculate the chi-square statistic and p-value for a contingency table with the following\n",
    "data:\n",
    "                  Group A    Group B\n",
    "        outcome1    20          15\n",
    "        outcome2    10          25\n",
    "        outcome3    15          20\n",
    "\n",
    "Interpret the results of the test."
   ]
  },
  {
   "cell_type": "code",
   "execution_count": 5,
   "id": "3b65b811-fcd0-4f15-b72b-0b8e8ebbafe1",
   "metadata": {},
   "outputs": [
    {
     "name": "stdout",
     "output_type": "stream",
     "text": [
      "Chi-square statistic: 5.833333333333334\n",
      "P-value: 0.05411376622282158\n",
      "Degrees of freedom: 2\n",
      "Expected frequencies table:\n",
      "[[15. 20.]\n",
      " [15. 20.]\n",
      " [15. 20.]]\n"
     ]
    }
   ],
   "source": [
    "import numpy as np\n",
    "import scipy.stats as stats\n",
    "\n",
    "data = np.array([[20, 15],\n",
    "                 [10, 25],\n",
    "                 [15, 20]])\n",
    "\n",
    "chi2, p, dof, expected = stats.chi2_contingency(data)\n",
    "\n",
    "print(\"Chi-square statistic:\", chi2)\n",
    "print(\"P-value:\", p)\n",
    "print(\"Degrees of freedom:\", dof)\n",
    "print(\"Expected frequencies table:\")\n",
    "print(expected)\n"
   ]
  },
  {
   "cell_type": "markdown",
   "id": "542dc698-522c-4c02-aefe-cb5c4cae88c3",
   "metadata": {},
   "source": [
    "Q4. A study of the prevalence of smoking in a population of 500 individuals found that 60 individuals\n",
    "smoked. Use Python to calculate the 95% confidence interval for the true proportion of individuals in the\n",
    "population who smoke."
   ]
  },
  {
   "cell_type": "code",
   "execution_count": 7,
   "id": "2fddf7f1-c4e5-4693-be3e-9f791fb82001",
   "metadata": {},
   "outputs": [
    {
     "name": "stdout",
     "output_type": "stream",
     "text": [
      "95% Confidence Interval: (0.09151638887130707, 0.1484836111286929)\n"
     ]
    }
   ],
   "source": [
    "import scipy.stats as stats\n",
    "\n",
    "n = 500\n",
    "\n",
    "x = 60\n",
    "\n",
    "p_hat = x / n\n",
    "\n",
    "confidence_level = 0.95\n",
    "\n",
    "margin_of_error = stats.norm.ppf(1 - (1 - confidence_level) / 2) * (p_hat * (1 - p_hat) / n) ** 0.5\n",
    "\n",
    "confidence_interval = (p_hat - margin_of_error, p_hat + margin_of_error)\n",
    "\n",
    "print(\"95% Confidence Interval:\", confidence_interval)\n"
   ]
  },
  {
   "cell_type": "markdown",
   "id": "47341b65-99de-41ef-b0bd-df1e88b5772e",
   "metadata": {},
   "source": [
    "Interpretation:\n",
    "You can be 95% confident that the true proportion of individuals in the population who smoke falls within the confidence interval. This means that you expect the population proportion of smokers to be somewhere between the lower and upper bounds of the confidence interval. In this case, the interval provides a range for the estimated proportion of smokers in the population."
   ]
  },
  {
   "cell_type": "markdown",
   "id": "80a3ee5b-bb68-4d0b-ac8a-0b8df77edad3",
   "metadata": {},
   "source": [
    "Q5. Calculate the 90% confidence interval for a sample of data with a mean of 75 and a standard deviation\n",
    "of 12 using Python. Interpret the results."
   ]
  },
  {
   "cell_type": "code",
   "execution_count": 9,
   "id": "ece76e0d-a5da-427f-b4ba-7fbdb47608bf",
   "metadata": {},
   "outputs": [
    {
     "name": "stdout",
     "output_type": "stream",
     "text": [
      "90% Confidence Interval: (73.02617564765823, 76.97382435234177)\n"
     ]
    }
   ],
   "source": [
    "import scipy.stats as stats\n",
    "\n",
    "\n",
    "sample_mean = 75\n",
    "sample_stddev = 12\n",
    "\n",
    "sample_size = 100\n",
    "\n",
    "confidence_level = 0.90\n",
    "\n",
    "margin_of_error = stats.norm.ppf(1 - (1 - confidence_level) / 2) * (sample_stddev / (sample_size ** 0.5))\n",
    "\n",
    "confidence_interval = (sample_mean - margin_of_error, sample_mean + margin_of_error)\n",
    "\n",
    "print(\"90% Confidence Interval:\", confidence_interval)\n"
   ]
  },
  {
   "cell_type": "markdown",
   "id": "7c01e7f0-106c-4ca1-9e94-c854d8906690",
   "metadata": {},
   "source": [
    "Interpretation:\n",
    "In this example, with a sample mean of 75 and a standard deviation of 12, you can be 90% confident that the true population mean falls within the confidence interval. The confidence interval provides a range of values within which the population mean is likely to be. So, you can say with 90% confidence that the population mean lies between the lower and upper bounds of the confidence interval.\n",
    "\n",
    "\n",
    "\n",
    "\n"
   ]
  },
  {
   "cell_type": "markdown",
   "id": "89254cee-369c-4812-b602-f0d9d472f3d1",
   "metadata": {},
   "source": [
    "Q6. Use Python to plot the chi-square distribution with 10 degrees of freedom. Label the axes and shade the\n",
    "area corresponding to a chi-square statistic of 15."
   ]
  },
  {
   "cell_type": "code",
   "execution_count": 10,
   "id": "3639a66d-e0ad-4f20-88c5-251bf419d6de",
   "metadata": {},
   "outputs": [
    {
     "data": {
      "image/png": "[encoded data removed]",
      "text/plain": [
       "<Figure size 800x400 with 1 Axes>"
      ]
     },
     "metadata": {},
     "output_type": "display_data"
    }
   ],
   "source": [
    "import matplotlib.pyplot as plt\n",
    "import numpy as np\n",
    "import scipy.stats as stats\n",
    "\n",
    "df = 10\n",
    "\n",
    "\n",
    "x = np.linspace(0, 30, 1000)  \n",
    "\n",
    "pdf = stats.chi2.pdf(x, df)\n",
    "\n",
    "plt.figure(figsize=(8, 4))\n",
    "plt.plot(x, pdf, 'b-', lw=2, label='Chi-Square PDF (df=10)')\n",
    "\n",
    "x_shaded = np.linspace(0, 15, 1000)\n",
    "plt.fill_between(x_shaded, 0, stats.chi2.pdf(x_shaded, df), where=(x_shaded <= 15), color='gray', alpha=0.5, label='Shaded Area')\n",
    "\n",
    "plt.xlabel('Chi-Square Value')\n",
    "plt.ylabel('Probability Density')\n",
    "plt.title('Chi-Square Distribution with Shaded Area (df=10)')\n",
    "plt.legend()\n",
    "\n",
    "plt.grid(True)\n",
    "plt.show()\n"
   ]
  },
  {
   "cell_type": "markdown",
   "id": "f12a5b88-50e7-4f14-b25b-33a5e8a0251f",
   "metadata": {},
   "source": [
    "Q7. A random sample of 1000 people was asked if they preferred Coke or Pepsi. Of the sample, 520\n",
    "preferred Coke. Calculate a 99% confidence interval for the true proportion of people in the population who\n",
    "prefer Coke."
   ]
  },
  {
   "cell_type": "code",
   "execution_count": 11,
   "id": "c84736ac-7670-4254-a49d-11d335afe274",
   "metadata": {},
   "outputs": [
    {
     "name": "stdout",
     "output_type": "stream",
     "text": [
      "99% Confidence Interval: (0.4793051576779699, 0.5606948423220302)\n"
     ]
    }
   ],
   "source": [
    "import scipy.stats as stats\n",
    "\n",
    "n = 1000\n",
    "\n",
    "x = 520\n",
    "\n",
    "p_hat = x / n\n",
    "\n",
    "confidence_level = 0.99\n",
    "\n",
    "margin_of_error = stats.norm.ppf(1 - (1 - confidence_level) / 2) * (p_hat * (1 - p_hat) / n) ** 0.5\n",
    "\n",
    "confidence_interval = (p_hat - margin_of_error, p_hat + margin_of_error)\n",
    "\n",
    "print(\"99% Confidence Interval:\", confidence_interval)\n"
   ]
  },
  {
   "cell_type": "markdown",
   "id": "f17853e8-74ed-4f8b-bbe7-a9c6bb220ccd",
   "metadata": {},
   "source": [
    "Interpretation:\n",
    "You can be 99% confident that the true proportion of people in the population who prefer Coke falls within the confidence interval. This means that you expect the population proportion of Coke preference to be somewhere between the lower and upper bounds of the confidence interval. In this case, the interval provides a range for the estimated proportion of people who prefer Coke in the population."
   ]
  },
  {
   "cell_type": "markdown",
   "id": "20325940-b1f6-47fd-b9d8-9de80f5c78f4",
   "metadata": {},
   "source": [
    "Q8. A researcher hypothesizes that a coin is biased towards tails. They flip the coin 100 times and observe\n",
    "45 tails. Conduct a chi-square goodness of fit test to determine if the observed frequencies match the\n",
    "expected frequencies of a fair coin. Use a significance level of 0.05."
   ]
  },
  {
   "cell_type": "code",
   "execution_count": 12,
   "id": "d8c5104b-992d-4d54-a885-e279fa8d3ede",
   "metadata": {},
   "outputs": [
    {
     "name": "stdout",
     "output_type": "stream",
     "text": [
      "Chi-square statistic: 1.0\n",
      "P-value: 0.31731050786291115\n",
      "Degrees of freedom: 1\n",
      "Fail to reject the null hypothesis. The coin is consistent with being fair.\n"
     ]
    }
   ],
   "source": [
    "import scipy.stats as stats\n",
    "\n",
    "observed_frequencies = [45, 55]  \n",
    "\n",
    "expected_frequencies = [0.5 * 100, 0.5 * 100]  \n",
    "\n",
    "alpha = 0.05\n",
    "\n",
    "chi2, p_value = stats.chisquare(f_obs=observed_frequencies, f_exp=expected_frequencies)\n",
    "\n",
    "df = len(observed_frequencies) - 1\n",
    "\n",
    "print(\"Chi-square statistic:\", chi2)\n",
    "print(\"P-value:\", p_value)\n",
    "print(\"Degrees of freedom:\", df)\n",
    "\n",
    "if p_value < alpha:\n",
    "    print(\"Reject the null hypothesis. The coin may be biased towards tails.\")\n",
    "else:\n",
    "    print(\"Fail to reject the null hypothesis. The coin is consistent with being fair.\")\n"
   ]
  },
  {
   "cell_type": "markdown",
   "id": "08d121f4-72ce-430e-8c6d-d3638f10aea0",
   "metadata": {},
   "source": [
    "Interpretation:\n",
    "\n",
    "If the p-value is less than the significance level (0.05), you would reject the null hypothesis, indicating that the coin may be biased towards tails.\n",
    "If the p-value is greater than or equal to 0.05, you would fail to reject the null hypothesis, suggesting that the coin is consistent with being fair."
   ]
  },
  {
   "cell_type": "markdown",
   "id": "d4f6deb4-664e-4895-bdca-9add51e47585",
   "metadata": {},
   "source": [
    "Q9. A study was conducted to determine if there is an association between smoking status (smoker or\n",
    "non-smoker) and lung cancer diagnosis (yes or no). The results are shown in the contingency table below.\n",
    "Conduct a chi-square test for independence to determine if there is a significant association between\n",
    "smoking status and lung cancer diagnosis.\n",
    "\n",
    "\n",
    "            Lung Cancer:Yes   Lung Cancer:No\n",
    "Smoker            60               140\n",
    "Non-smoker        30               170\n",
    "\n",
    "\n",
    "Use a significance level of 0.05.\n"
   ]
  },
  {
   "cell_type": "code",
   "execution_count": 13,
   "id": "6786d8f7-b903-4297-a397-1558cd1dbec2",
   "metadata": {},
   "outputs": [
    {
     "name": "stdout",
     "output_type": "stream",
     "text": [
      "Chi-square statistic: 12.057347670250895\n",
      "P-value: 0.0005158863863703744\n",
      "Degrees of freedom: 1\n",
      "Expected frequencies table:\n",
      "[[ 45. 155.]\n",
      " [ 45. 155.]]\n",
      "Reject the null hypothesis. There is a significant association between smoking status and lung cancer diagnosis.\n"
     ]
    }
   ],
   "source": [
    "import numpy as np\n",
    "import scipy.stats as stats\n",
    "\n",
    "observed = np.array([[60, 140], [30, 170]])\n",
    "\n",
    "chi2, p, dof, expected = stats.chi2_contingency(observed)\n",
    "\n",
    "alpha = 0.05\n",
    "\n",
    "print(\"Chi-square statistic:\", chi2)\n",
    "print(\"P-value:\", p)\n",
    "print(\"Degrees of freedom:\", dof)\n",
    "print(\"Expected frequencies table:\")\n",
    "print(expected)\n",
    "\n",
    "if p < alpha:\n",
    "    print(\"Reject the null hypothesis. There is a significant association between smoking status and lung cancer diagnosis.\")\n",
    "else:\n",
    "    print(\"Fail to reject the null hypothesis. There is no significant association between smoking status and lung cancer diagnosis.\")\n"
   ]
  },
  {
   "cell_type": "markdown",
   "id": "c7408bed-9cb6-4b0a-b1e5-24e496cb9795",
   "metadata": {},
   "source": [
    "Q10. A study was conducted to determine if the proportion of people who prefer milk chocolate, dark\n",
    "chocolate, or white chocolate is different in the U.S. versus the U.K. A random sample of 500 people from\n",
    "the U.S. and a random sample of 500 people from the U.K. were surveyed. The results are shown in the\n",
    "contingency table below. Conduct a chi-square test for independence to determine if there is a significant\n",
    "association between chocolate preference and country of origin.\n",
    "\n",
    "            Milk Chocolate    Dark Chocolate   White Chocolate\n",
    "\n",
    "U.S. (n=500)     200              150              150\n",
    "U.K. (n=500)     225              175              100\n",
    "\n",
    "Use a significance level of 0.01."
   ]
  },
  {
   "cell_type": "code",
   "execution_count": 14,
   "id": "422ac3f6-77f4-4e9d-a8e1-524a67d048e8",
   "metadata": {},
   "outputs": [
    {
     "name": "stdout",
     "output_type": "stream",
     "text": [
      "Chi-square statistic: 13.393665158371041\n",
      "P-value: 0.0012348168997745918\n",
      "Degrees of freedom: 2\n",
      "Expected frequencies table:\n",
      "[[212.5 162.5 125. ]\n",
      " [212.5 162.5 125. ]]\n",
      "Reject the null hypothesis. There is a significant association between chocolate preference and country of origin.\n"
     ]
    }
   ],
   "source": [
    "import numpy as np\n",
    "import scipy.stats as stats\n",
    "\n",
    "observed = np.array([[200, 150, 150], [225, 175, 100]])\n",
    "\n",
    "chi2, p, dof, expected = stats.chi2_contingency(observed)\n",
    "\n",
    "alpha = 0.01\n",
    "\n",
    "print(\"Chi-square statistic:\", chi2)\n",
    "print(\"P-value:\", p)\n",
    "print(\"Degrees of freedom:\", dof)\n",
    "print(\"Expected frequencies table:\")\n",
    "print(expected)\n",
    "\n",
    "if p < alpha:\n",
    "    print(\"Reject the null hypothesis. There is a significant association between chocolate preference and country of origin.\")\n",
    "else:\n",
    "    print(\"Fail to reject the null hypothesis. There is no significant association between chocolate preference and country of origin.\")\n"
   ]
  },
  {
   "cell_type": "markdown",
   "id": "ee072ecb-c8b6-4441-b4b9-bd372e5b671d",
   "metadata": {},
   "source": [
    "Interpretation:\n",
    "\n",
    "If the p-value is less than the significance level (0.01), you would reject the null hypothesis, indicating that there is a significant association between chocolate preference and country of origin.\n",
    "If the p-value is greater than or equal to 0.01, you would fail to reject the null hypothesis, suggesting that there is no significant association between chocolate preference and country of origin."
   ]
  },
  {
   "cell_type": "markdown",
   "id": "6c2ceb66-d33d-478c-be9b-f790d43b87c9",
   "metadata": {},
   "source": [
    "Q11. A random sample of 30 people was selected from a population with an unknown mean and standard\n",
    "deviation. The sample mean was found to be 72 and the sample standard deviation was found to be 10.\n",
    "Conduct a hypothesis test to determine if the population mean is significantly different from 70. Use a\n",
    "significance level of 0.05."
   ]
  },
  {
   "cell_type": "code",
   "execution_count": 15,
   "id": "145a1af3-235e-44e6-b811-104c3287a4e6",
   "metadata": {},
   "outputs": [
    {
     "name": "stdout",
     "output_type": "stream",
     "text": [
      "Sample Mean: 72\n",
      "Sample Standard Deviation: 10\n",
      "Sample Size: 30\n",
      "Population Mean (Null Hypothesis): 70\n",
      "T-statistic: 1.0954451150103321\n",
      "Degrees of Freedom: 29\n",
      "Critical t-value: 2.045229642132703\n",
      "P-value: 0.2823362372860698\n",
      "Fail to reject the null hypothesis. There is no significant difference between the population mean and 70.\n"
     ]
    }
   ],
   "source": [
    "import scipy.stats as stats\n",
    "\n",
    "sample_mean = 72\n",
    "\n",
    "sample_stddev = 10\n",
    "\n",
    "sample_size = 30\n",
    "\n",
    "population_mean = 70\n",
    "\n",
    "alpha = 0.05\n",
    "\n",
    "t_statistic = (sample_mean - population_mean) / (sample_stddev / (sample_size ** 0.5))\n",
    "\n",
    "degrees_of_freedom = sample_size - 1\n",
    "\n",
    "critical_t_value = stats.t.ppf(1 - alpha / 2, df=degrees_of_freedom)\n",
    "\n",
    "p_value = 2 * (1 - stats.t.cdf(abs(t_statistic), df=degrees_of_freedom))\n",
    "\n",
    "print(\"Sample Mean:\", sample_mean)\n",
    "print(\"Sample Standard Deviation:\", sample_stddev)\n",
    "print(\"Sample Size:\", sample_size)\n",
    "print(\"Population Mean (Null Hypothesis):\", population_mean)\n",
    "print(\"T-statistic:\", t_statistic)\n",
    "print(\"Degrees of Freedom:\", degrees_of_freedom)\n",
    "print(\"Critical t-value:\", critical_t_value)\n",
    "print(\"P-value:\", p_value)\n",
    "\n",
    "if p_value < alpha:\n",
    "    print(\"Reject the null hypothesis. The population mean is significantly different from 70.\")\n",
    "else:\n",
    "    print(\"Fail to reject the null hypothesis. There is no significant difference between the population mean and 70.\")\n"
   ]
  },
  {
   "cell_type": "code",
   "execution_count": null,
   "id": "0ee410c1-bfc7-46f9-b33f-ea9a189c7c22",
   "metadata": {},
   "outputs": [],
   "source": []
  }
 ],
 "metadata": {
  "kernelspec": {
   "display_name": "Python 3 (ipykernel)",
   "language": "python",
   "name": "python3"
  },
  "language_info": {
   "codemirror_mode": {
    "name": "ipython",
    "version": 3
   },
   "file_extension": ".py",
   "mimetype": "text/x-python",
   "name": "python",
   "nbconvert_exporter": "python",
   "pygments_lexer": "ipython3",
   "version": "3.10.8"
  }
 },
 "nbformat": 4,
 "nbformat_minor": 5
}
