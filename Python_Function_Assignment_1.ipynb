{
 "cells": [
  {
   "cell_type": "markdown",
   "id": "09fe8409-983c-4fd9-97d3-4539feb2019a",
   "metadata": {},
   "source": [
    "Q1. Which keyword is used to create a function? Create a function to return a list of odd numbers in the\n",
    "range of 1 to 25.\n",
    "\n",
    "\n",
    "ans> def keyword is used to create a function.\n"
   ]
  },
  {
   "cell_type": "code",
   "execution_count": 12,
   "id": "4c4f20df-b6be-4e1d-8bfc-825b0754b153",
   "metadata": {},
   "outputs": [
    {
     "name": "stdout",
     "output_type": "stream",
     "text": [
      "[1, 3, 5, 7, 9, 11, 13, 15, 17, 19, 21, 23, 25]\n"
     ]
    }
   ],
   "source": [
    "def odd_number():\n",
    "    o_n=[i for i in range(1,26) if (i%2!=0)]\n",
    "    return o_n\n",
    "list=odd_number()\n",
    "print(list)\n",
    "            "
   ]
  },
  {
   "cell_type": "markdown",
   "id": "b237fd14-7002-406d-82fb-313048ff44fb",
   "metadata": {},
   "source": [
    "Q2. Why *args and **kwargs is used in some functions? Create a function each for *args and **kwargs\n",
    "to demonstrate their use."
   ]
  },
  {
   "cell_type": "code",
   "execution_count": 13,
   "id": "7bccc02a-71b8-4fe5-8b86-dcf694fb6de5",
   "metadata": {},
   "outputs": [
    {
     "name": "stdout",
     "output_type": "stream",
     "text": [
      "Get\n",
      "Well\n",
      "Soon\n"
     ]
    }
   ],
   "source": [
    "def myFun(*argv):\n",
    "    for arg in argv:\n",
    "        print(arg)\n",
    "myFun('Get', 'Well', 'Soon')\n"
   ]
  },
  {
   "cell_type": "code",
   "execution_count": 15,
   "id": "20aa507b-4321-487a-9270-80257b0204a9",
   "metadata": {},
   "outputs": [
    {
     "name": "stdout",
     "output_type": "stream",
     "text": [
      "first == All\n",
      "mid == is\n",
      "last == Well\n"
     ]
    }
   ],
   "source": [
    "def myFun(**kwargs):\n",
    "\tfor key, value in kwargs.items():\n",
    "\t\tprint(\"%s == %s\" % (key, value))\n",
    "\n",
    "\n",
    "\n",
    "myFun(first='All', mid='is', last='Well')\n"
   ]
  },
  {
   "cell_type": "markdown",
   "id": "f0a59e0a-6d1b-4230-829d-833f2a82ee0c",
   "metadata": {},
   "source": [
    "Q3. What is an iterator in python? Name the method used to initialise the iterator object and the method\n",
    "used for iteration. Use these methods to print the first five elements of the given list [2, 4, 6, 8, 10, 12, 14,\n",
    "16, 18, 20]."
   ]
  },
  {
   "cell_type": "markdown",
   "id": "113a0ed4-731f-4a6e-97e5-ddce924a948e",
   "metadata": {},
   "source": [
    "Itertor is an object that contains a countable number of values.\n",
    "In Python, the method used to initialize the iterator object is iter(), and the method used for iteration is next().\n"
   ]
  },
  {
   "cell_type": "code",
   "execution_count": 20,
   "id": "46074bd8-c31e-4b15-8473-316eb9189832",
   "metadata": {},
   "outputs": [
    {
     "name": "stdout",
     "output_type": "stream",
     "text": [
      "2\n",
      "4\n",
      "6\n",
      "8\n",
      "10\n"
     ]
    }
   ],
   "source": [
    "list=[2,4,6,8,10,12,14,16,18,20]\n",
    "m=iter(list)\n",
    "\n",
    "for _ in range(5):\n",
    "    \n",
    "    print(next(m))"
   ]
  },
  {
   "cell_type": "markdown",
   "id": "73431c72-6b81-4431-97ff-309d743e227b",
   "metadata": {},
   "source": [
    "Q4. What is a generator function in python? Why yield keyword is used? Give an example of a generator\n",
    "function."
   ]
  },
  {
   "cell_type": "markdown",
   "id": "03d7168d-7f24-477b-aed3-040578542917",
   "metadata": {},
   "source": [
    "Generator function  allows you to declare a function that behaves like an iterator, providing a faster and easier way to create iterators.\n",
    "\n",
    "yield keyword is used to create a generator function. A type of function that is memory efficient and can be used like an iterator object."
   ]
  },
  {
   "cell_type": "code",
   "execution_count": 21,
   "id": "70dd6f6f-23b0-4296-a435-dd9bd280368a",
   "metadata": {},
   "outputs": [
    {
     "name": "stdout",
     "output_type": "stream",
     "text": [
      "10\n",
      "20\n",
      "30\n"
     ]
    }
   ],
   "source": [
    "def something():\n",
    "    yield 10\n",
    "    yield 20\n",
    "    yield 30\n",
    "    \n",
    "for p in something():\n",
    "    print(p)\n"
   ]
  },
  {
   "cell_type": "markdown",
   "id": "7cd68ae2-6d32-4661-bd95-0db7f54f3027",
   "metadata": {},
   "source": [
    "Q5. Create a generator function for prime numbers less than 1000. Use the next() method to print the\n",
    "first 20 prime numbers."
   ]
  },
  {
   "cell_type": "code",
   "execution_count": 1,
   "id": "370d1b9d-d811-4a19-9841-180433cf6092",
   "metadata": {},
   "outputs": [
    {
     "name": "stdout",
     "output_type": "stream",
     "text": [
      "2\n",
      "3\n",
      "5\n",
      "7\n",
      "11\n",
      "13\n",
      "17\n",
      "19\n",
      "23\n",
      "29\n",
      "31\n",
      "37\n",
      "41\n",
      "43\n",
      "47\n",
      "53\n",
      "59\n",
      "61\n",
      "67\n",
      "71\n"
     ]
    }
   ],
   "source": [
    "def is_prime(number):\n",
    "    if number <= 1:\n",
    "        return False\n",
    "    for i in range(2, int(number ** 0.5) + 1):\n",
    "        if number % i == 0:\n",
    "            return False\n",
    "    return True\n",
    "\n",
    "def prime_generator():\n",
    "    number = 2\n",
    "    while number < 1000:\n",
    "        if is_prime(number):\n",
    "            yield number\n",
    "        number += 1\n",
    "\n",
    "prime_gen = prime_generator()\n",
    "for _ in range(20):\n",
    "    print(next(prime_gen))\n",
    "\n",
    "    "
   ]
  },
  {
   "cell_type": "markdown",
   "id": "4d9a136f-cefc-4b3a-ad96-33b7fcca67ae",
   "metadata": {},
   "source": [
    "Q6. Write a python program to print the first 10 Fibonacci numbers using a while loop."
   ]
  },
  {
   "cell_type": "code",
   "execution_count": 4,
   "id": "34808947-d915-4789-a7bf-6e633287d9c4",
   "metadata": {},
   "outputs": [
    {
     "name": "stdout",
     "output_type": "stream",
     "text": [
      "1 2 3 5 8 13 21 34 55 89 \n"
     ]
    }
   ],
   "source": [
    "num=10\n",
    "n1=0\n",
    "n2=1\n",
    "next_no=n2\n",
    "count=1\n",
    "\n",
    "while count<=num:\n",
    "    print(next_no,end= \" \")\n",
    "    count +=1\n",
    "    n1,n2=n2,next_no\n",
    "    next_no = n1+n2\n",
    "print()\n",
    "    "
   ]
  },
  {
   "cell_type": "markdown",
   "id": "9e3acbd9-ad2e-46cb-8f47-1e82bf2ec265",
   "metadata": {},
   "source": [
    "Q7. Write a List Comprehension to iterate through the given string: ‘pwskills’.\n",
    "Expected output: ['p', 'w', 's', 'k', 'i', 'l', 'l', 's']\n"
   ]
  },
  {
   "cell_type": "code",
   "execution_count": 5,
   "id": "69cbdbfc-82d1-412d-b0ab-ef108859684e",
   "metadata": {},
   "outputs": [
    {
     "name": "stdout",
     "output_type": "stream",
     "text": [
      "['p', 'w', 's', 'k', 'i', 'l', 'l', 's']\n"
     ]
    }
   ],
   "source": [
    "var1=\"pwskills\"\n",
    "l1=[var1[i] for i in range (len(var1))]\n",
    "print(l1)"
   ]
  },
  {
   "cell_type": "markdown",
   "id": "12558848-af57-47ae-8a0a-46c4a6861f2d",
   "metadata": {},
   "source": [
    "Q8. Write a python program to check whether a given number is Palindrome or not using a while loop."
   ]
  },
  {
   "cell_type": "code",
   "execution_count": 6,
   "id": "8ff7c606-b222-492f-807a-a520efebde93",
   "metadata": {},
   "outputs": [
    {
     "name": "stdin",
     "output_type": "stream",
     "text": [
      "Enter any number: 121\n"
     ]
    },
    {
     "name": "stdout",
     "output_type": "stream",
     "text": [
      "The 121 number is palindrome!\n"
     ]
    }
   ],
   "source": [
    "\n",
    "num=int(input(\"Enter any number:\"))\n",
    "temp=num\n",
    "rev=0\n",
    "while(num>0):\n",
    "    dig=num%10\n",
    "    rev=rev*10+dig\n",
    "    num=num//10\n",
    "if(temp==rev):\n",
    "    print(\"The {0} number is palindrome!\".format(temp))\n",
    "else:\n",
    "    print(\"Not a palindrome!\")\n",
    "        "
   ]
  },
  {
   "cell_type": "markdown",
   "id": "9b765a2c-0850-4956-b8c1-887f87ad5ef7",
   "metadata": {},
   "source": [
    "Q9. Write a code to print odd numbers from 1 to 100 using list comprehension.\n",
    "\n"
   ]
  },
  {
   "cell_type": "code",
   "execution_count": 10,
   "id": "6cbb5533-f8c7-4cf6-a9f8-e30469fb2549",
   "metadata": {},
   "outputs": [
    {
     "name": "stdout",
     "output_type": "stream",
     "text": [
      "[1, 3, 5, 7, 9, 11, 13, 15, 17, 19, 21, 23, 25, 27, 29, 31, 33, 35, 37, 39, 41, 43, 45, 47, 49, 51, 53, 55, 57, 59, 61, 63, 65, 67, 69, 71, 73, 75, 77, 79, 81, 83, 85, 87, 89, 91, 93, 95, 97, 99]\n"
     ]
    }
   ],
   "source": [
    "l1=[i for i in range(1,101) if i%2!=0]\n",
    "print(l1)"
   ]
  },
  {
   "cell_type": "code",
   "execution_count": null,
   "id": "4c1db6b8-84eb-4e1d-a9e8-555293e0ec25",
   "metadata": {},
   "outputs": [],
   "source": []
  }
 ],
 "metadata": {
  "kernelspec": {
   "display_name": "Python 3 (ipykernel)",
   "language": "python",
   "name": "python3"
  },
  "language_info": {
   "codemirror_mode": {
    "name": "ipython",
    "version": 3
   },
   "file_extension": ".py",
   "mimetype": "text/x-python",
   "name": "python",
   "nbconvert_exporter": "python",
   "pygments_lexer": "ipython3",
   "version": "3.10.8"
  }
 },
 "nbformat": 4,
 "nbformat_minor": 5
}
