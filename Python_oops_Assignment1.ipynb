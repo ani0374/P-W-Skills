{
 "cells": [
  {
   "cell_type": "markdown",
   "id": "2a834f5f-f2b1-49f9-8c2a-ea296c1e26ff",
   "metadata": {},
   "source": [
    "Q1. Explain Class and Object with respect to Object-Oriented Programming. Give a suitable example."
   ]
  },
  {
   "cell_type": "markdown",
   "id": "4263de31-f39e-49d6-b5b5-85aaca945445",
   "metadata": {},
   "source": [
    "Class:\n",
    "A class is like a blueprint that defines the structure and behavior of objects. It encapsulates data (attributes) and functions (methods) that operate on that data. It provides a way to create objects with specific properties and behaviors.\n",
    "\n",
    "Object:\n",
    "An object is a specific instance created based on a class. It represents a real-world entity and contains data and behavior defined in the class. Each object is independent and can have its own unique state and behavior."
   ]
  },
  {
   "cell_type": "code",
   "execution_count": 2,
   "id": "f35b56ff-b3ce-4178-9cd3-b031c6d37e71",
   "metadata": {},
   "outputs": [
    {
     "name": "stdout",
     "output_type": "stream",
     "text": [
      "mammal\n",
      "I'm a mammal\n",
      "I'm a dog\n"
     ]
    }
   ],
   "source": [
    "class Dog:\n",
    "    attr1 = \"mammal\"\n",
    "    attr2 = \"dog\"\n",
    "    def fun(self):\n",
    "        print(\"I'm a\", self.attr1)\n",
    "        print(\"I'm a\", self.attr2)\n",
    "Rodger = Dog()\n",
    "print(Rodger.attr1)\n",
    "Rodger.fun()"
   ]
  },
  {
   "cell_type": "markdown",
   "id": "ff735f2b-d407-484c-8df9-d9711d86c991",
   "metadata": {},
   "source": [
    "Q2. Name the four pillars of OOPs."
   ]
  },
  {
   "cell_type": "markdown",
   "id": "f6dc0b13-7fe8-475c-bb25-22e39b85af80",
   "metadata": {},
   "source": [
    "1.Polymorphism\n",
    "2.Encapsulation\n",
    "3.Inheritance\n",
    "4.Abstraction"
   ]
  },
  {
   "cell_type": "markdown",
   "id": "5d3250e9-53cd-48d9-8fb4-9f9eb125ad6d",
   "metadata": {},
   "source": [
    "Q3. Explain why the __init__() function is used. Give a suitable example."
   ]
  },
  {
   "cell_type": "markdown",
   "id": "a1d53467-3dd2-496b-a5db-d663777902a3",
   "metadata": {},
   "source": [
    "The __init__() function in Python is used as a constructor for a class. It is automatically called when an object is created from the class. The primary purpose of the __init__() method is to initialize the attributes (properties) of the object and perform any necessary setup or configuration."
   ]
  },
  {
   "cell_type": "code",
   "execution_count": 6,
   "id": "8bb1c02e-2b9b-4add-8ee6-a7b2ccc5ca9b",
   "metadata": {},
   "outputs": [
    {
     "name": "stdout",
     "output_type": "stream",
     "text": [
      "Hello, My name is Anish\n"
     ]
    }
   ],
   "source": [
    "class Person:\n",
    " \n",
    "    \n",
    "    def __init__(self, name):\n",
    "        self.name = name\n",
    " \n",
    "    \n",
    "    def say_hi(self):\n",
    "        print('Hello, My name is', self.name)\n",
    " \n",
    " \n",
    "p = Person('Anish')\n",
    "p.say_hi()"
   ]
  },
  {
   "cell_type": "markdown",
   "id": "5861ff60-54c2-4a44-a04f-426f974a362a",
   "metadata": {},
   "source": [
    "Q4. Why self is used in OOPs?"
   ]
  },
  {
   "cell_type": "markdown",
   "id": "045888d2-3bb9-4ea0-aeae-6403f33c1585",
   "metadata": {},
   "source": [
    "The use of self is essential because it helps in distinguishing between instance variables (attributes) and local variables within the method. When you call a method on an object, you need to use self to access the instance variables of that object. Without self, Python would interpret the variables inside the method as local variables, not related to the object's attributes."
   ]
  },
  {
   "cell_type": "markdown",
   "id": "32dd147b-6a11-4f97-8a16-0ecb9f119392",
   "metadata": {},
   "source": [
    "Q5. What is inheritance? Give an example for each type of inheritance."
   ]
  },
  {
   "cell_type": "markdown",
   "id": "d90342df-961e-484f-a8cb-ff84969d601d",
   "metadata": {},
   "source": [
    "Inheritance is a fundamental concept in Object-Oriented Programming (OOP) that allows a class to inherit properties and behaviors (attributes and methods) from another class. It promotes code reuse and allows you to create a hierarchical relationship among classes. The class from which another class inherits is called the superclass or base class, and the class that inherits from the superclass is called the subclass or derived class."
   ]
  },
  {
   "cell_type": "markdown",
   "id": "7ceb8612-38f0-43fa-9ce3-fc0cca37c0c6",
   "metadata": {},
   "source": [
    "1.Single Inheritance:\n",
    "Single inheritance refers to a scenario where a subclass inherits from only one superclass. It forms a linear hierarchy."
   ]
  },
  {
   "cell_type": "markdown",
   "id": "e8fe064b-c63a-4669-9c1f-492a1a8ae560",
   "metadata": {},
   "source": [
    "2.Multiple Inheritance:\n",
    "Multiple inheritance occurs when a subclass inherits from two or more superclasses. It forms a diamond-shaped hierarchy."
   ]
  },
  {
   "cell_type": "markdown",
   "id": "75733e94-9f6f-4ed6-a3a3-0c6cc49e69de",
   "metadata": {},
   "source": [
    "3.Multi-Level Inheritance:\n",
    "Multi-level inheritance occurs when a subclass inherits from another subclass, forming a chain of classes."
   ]
  },
  {
   "cell_type": "markdown",
   "id": "38c231c3-ad8f-4bcc-a80a-d8580442e355",
   "metadata": {},
   "source": [
    "4.Hierarchical Inheritance: \n",
    "When more than one derived class are created from a single base this type of inheritance is called hierarchical inheritance. In this program, we have a parent (base) class and two child (derived) classes.\n",
    "\n"
   ]
  },
  {
   "cell_type": "markdown",
   "id": "4f538204-e1d6-4168-9f98-0b311bc10d6d",
   "metadata": {},
   "source": [
    "5.Hybrid Inheritance: \n",
    "Inheritance consisting of multiple types of inheritance is called hybrid inheritance.\n",
    "\n"
   ]
  },
  {
   "cell_type": "code",
   "execution_count": null,
   "id": "2e30ab7a-1967-49fb-9e71-7808685e9e49",
   "metadata": {},
   "outputs": [],
   "source": []
  }
 ],
 "metadata": {
  "kernelspec": {
   "display_name": "Python 3 (ipykernel)",
   "language": "python",
   "name": "python3"
  },
  "language_info": {
   "codemirror_mode": {
    "name": "ipython",
    "version": 3
   },
   "file_extension": ".py",
   "mimetype": "text/x-python",
   "name": "python",
   "nbconvert_exporter": "python",
   "pygments_lexer": "ipython3",
   "version": "3.10.8"
  }
 },
 "nbformat": 4,
 "nbformat_minor": 5
}
