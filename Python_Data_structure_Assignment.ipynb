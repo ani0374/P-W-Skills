{
 "cells": [
  {
   "cell_type": "markdown",
   "id": "757abcca-8220-4895-ad8d-eada4c0314ce",
   "metadata": {},
   "source": [
    "Q1. How do you comment code in Python? What are the different types of comments?"
   ]
  },
  {
   "cell_type": "markdown",
   "id": "714ba3eb-51d6-4cc8-826d-5e457bddab04",
   "metadata": {},
   "source": [
    "There are 2 different type of comments.\n",
    "Single-line comments: To add a single-line comment, use the hash symbol (#) followed by the comment text. Everything after the # symbol on the same line will be treated as a comment.\n",
    "Multi-line comments (Docstrings): Python uses triple quotes (''' or \"\"\") to create multi-line comments, also known as \"docstrings.\" While docstrings are primarily used to document functions, classes, or modules, they can also serve as multi-line comments."
   ]
  },
  {
   "cell_type": "markdown",
   "id": "b4cf795b-9d20-48ad-85a7-2119eb0d7512",
   "metadata": {},
   "source": [
    "Q2. What are variables in Python? How do you declare and assign values to variables?"
   ]
  },
  {
   "cell_type": "markdown",
   "id": "d9fe4fc5-97ce-4954-a83f-af5ae3e021ef",
   "metadata": {},
   "source": [
    "In Python, variables are used to store data values. They act as containers that hold information, and you can access, modify, and manipulate the data stored in these containers throughout your program. Variables allow you to give names to data so that you can refer to and work with that data using the given names."
   ]
  },
  {
   "cell_type": "markdown",
   "id": "9c47922e-28b3-4605-8df6-30d3c0500eba",
   "metadata": {},
   "source": [
    "To declare and assign values to variables in Python, you simply use the assignment operator (=). Here's the basic syntax_>\n",
    "\n",
    "variable = value"
   ]
  },
  {
   "cell_type": "markdown",
   "id": "2795d183-0c63-4949-a697-265e4c0c21e1",
   "metadata": {},
   "source": [
    "Ex:\n",
    "name = \"Anish\"#(string)\n",
    "age = 21#(Integer)\n",
    "height = 5.8#(Float)\n",
    "is_student = True#(Boolean)"
   ]
  },
  {
   "cell_type": "markdown",
   "id": "da2f1637-65c6-4f0e-b790-93e9107901fd",
   "metadata": {
    "jupyter": {
     "source_hidden": true
    },
    "tags": []
   },
   "source": [
    "In Python, you can convert one data type to another using type conversion functions or constructors. Python provides built-in functions and constructors that allow you to convert between various data types.\n",
    "There are two types of type conversion in Python:\n",
    "\n",
    "Implicit Type Conversion: Done automatically by the Python interpreter.\n",
    "Explicit Type Conversion: Needs to be done manually by the programmer.\n",
    "\n",
    "Implicit Type Conversion in Python:\n",
    "\n",
    "Implicit type conversion is when the Python interpreter converts an object from one data type to another on its own without the need for the programmer to do it manually.\n",
    "\n",
    "Ex:\n"
   ]
  },
  {
   "cell_type": "markdown",
   "id": "faf8a213-9277-4271-910d-75cc604bd15f",
   "metadata": {},
   "source": [
    "Q3.How do you convert one data type to another in Python?\n",
    "\n",
    "\n"
   ]
  },
  {
   "cell_type": "code",
   "execution_count": null,
   "id": "3d65a865-88ef-4ff9-bf4c-b0b852e61d6a",
   "metadata": {
    "jupyter": {
     "source_hidden": true
    },
    "tags": []
   },
   "outputs": [],
   "source": [
    "\n",
    "english, science, maths, sst, it = 95, 92, 97, 90, 98\n",
    "\n",
    "total = english + science + maths + sst + it\n",
    "print(\"Total marks:\", total, \"is of type\", type(total))\n",
    "\n",
    "percentage = total / 5 \n",
    "print(\"Percentage:\", percentage, \"is of type\", type(percentage))"
   ]
  },
  {
   "cell_type": "markdown",
   "id": "137eb032-255e-4fd4-8d01-1315a55ca06b",
   "metadata": {},
   "source": [
    "Implicit Type Conversion\n",
    "In Implicit type conversion of data types in Python, the Python interpreter automatically converts one data type to another without any user involvement. To get a more clear view of the topic see the below examples.\n",
    "\n",
    "\n",
    "\n"
   ]
  },
  {
   "cell_type": "code",
   "execution_count": 1,
   "id": "75a42e56-6fef-49be-96fa-e058bf6ebf5e",
   "metadata": {},
   "outputs": [
    {
     "name": "stdout",
     "output_type": "stream",
     "text": [
      "x is of type: <class 'int'>\n",
      "y is of type: <class 'float'>\n",
      "20.6\n",
      "z is of type: <class 'float'>\n"
     ]
    }
   ],
   "source": [
    "x = 10\n",
    "\n",
    "print(\"x is of type:\",type(x))\n",
    "\n",
    "y = 10.6\n",
    "print(\"y is of type:\",type(y))\n",
    "\n",
    "z = x + y\n",
    "\n",
    "print(z)\n",
    "print(\"z is of type:\",type(z))\n"
   ]
  },
  {
   "cell_type": "markdown",
   "id": "15dc97b9-d228-4e8a-8bfa-2db97defabd8",
   "metadata": {},
   "source": [
    "Explicit Type Conversion\n",
    "In Explicit Type Conversion in Python, the data type is manually changed by the user as per their requirement. With explicit type conversion, there is a risk of data loss since we are forcing an expression to be changed in some specific data type. "
   ]
  },
  {
   "cell_type": "code",
   "execution_count": 2,
   "id": "27b0ed7f-a4ff-4752-b041-4343d9a6dc7e",
   "metadata": {},
   "outputs": [
    {
     "name": "stdout",
     "output_type": "stream",
     "text": [
      "After converting to integer base 2 : 18\n",
      "After converting to float : 10010.0\n"
     ]
    }
   ],
   "source": [
    "s = \"10010\"\n",
    "c = int(s,2)\n",
    "print (\"After converting to integer base 2 : \", end=\"\")\n",
    "print (c)\n",
    "e = float(s)\n",
    "print (\"After converting to float : \", end=\"\")\n",
    "print (e)"
   ]
  },
  {
   "cell_type": "markdown",
   "id": "364b0169-3deb-40a9-a2f5-70daa3937bf5",
   "metadata": {},
   "source": [
    "Q4.How do you write and execute a Python script from the command line?"
   ]
  },
  {
   "cell_type": "markdown",
   "id": "ff03fe33-2fcc-481c-a1e2-f51b9c4f5521",
   "metadata": {},
   "source": [
    "First of all check the version of the python\n",
    "\n",
    "python -v\n",
    "\n",
    "To run a python script store in a '.py' file in the command line,For run in command line we have to write 'python' keyword before the file name in the command prompt.\n",
    "\n",
    "input-> python hello.py\n",
    "\n"
   ]
  },
  {
   "cell_type": "markdown",
   "id": "d18b4e0c-7871-43eb-8880-bf69c77dc023",
   "metadata": {},
   "source": [
    "Q5. Given a list my_list = [1, 2, 3, 4, 5], write the code to slice the list and obtain the sub-list [2, 3]."
   ]
  },
  {
   "cell_type": "code",
   "execution_count": 5,
   "id": "423c8549-e308-4dd9-94e8-bbdb020352d7",
   "metadata": {},
   "outputs": [
    {
     "data": {
      "text/plain": [
       "[2, 3]"
      ]
     },
     "execution_count": 5,
     "metadata": {},
     "output_type": "execute_result"
    }
   ],
   "source": [
    "my_list=[1,2,3,4,5]\n",
    "sub_list=my_list[1:3]\n",
    "sub_list"
   ]
  },
  {
   "cell_type": "markdown",
   "id": "2731fcf1-8e4f-4b6a-b281-960211f8807e",
   "metadata": {},
   "source": [
    "Q6. What is a complex number in mathematics, and how is it represented in Python?"
   ]
  },
  {
   "cell_type": "markdown",
   "id": "f260ffaf-4633-4da0-8b66-e4bcb17fede4",
   "metadata": {},
   "source": [
    "complex numbers are the number that are expressed in the form of z = 5+3j whare 5 is a real number and 3j is a imaginary number.\n",
    "\n",
    "python Representation:\n",
    "    z = 5+3j"
   ]
  },
  {
   "cell_type": "markdown",
   "id": "399f5974-09e4-44e9-8689-a9bb70e4a710",
   "metadata": {},
   "source": [
    "Q7. What is the correct way to declare a variable named age and assign the value 25 to it?"
   ]
  },
  {
   "cell_type": "code",
   "execution_count": 6,
   "id": "f04d1cc2-9b15-4bfb-bc5d-3885b1d5ea85",
   "metadata": {},
   "outputs": [],
   "source": [
    "age=25"
   ]
  },
  {
   "cell_type": "markdown",
   "id": "e059184b-2641-4710-9ef1-c2b32f8e160d",
   "metadata": {},
   "source": [
    "Q8. Declare a variable named price and assign the value 9.99 to it. What data type does this variable\n",
    "belong to?"
   ]
  },
  {
   "cell_type": "code",
   "execution_count": 7,
   "id": "7654e875-6fed-470a-9c11-91c7a8389327",
   "metadata": {},
   "outputs": [
    {
     "data": {
      "text/plain": [
       "float"
      ]
     },
     "execution_count": 7,
     "metadata": {},
     "output_type": "execute_result"
    }
   ],
   "source": [
    "price=9.99\n",
    "type(price)"
   ]
  },
  {
   "cell_type": "markdown",
   "id": "d36c0294-33c7-4070-a2ad-b1671809dd05",
   "metadata": {},
   "source": [
    "Q9. Create a variable named name and assign your full name to it as a string. How would you print the\n",
    "value of this variable?"
   ]
  },
  {
   "cell_type": "code",
   "execution_count": 9,
   "id": "3f6dbc7b-1bda-4b01-81a0-e9b910e77b80",
   "metadata": {},
   "outputs": [
    {
     "name": "stdout",
     "output_type": "stream",
     "text": [
      "Anish Das\n"
     ]
    }
   ],
   "source": [
    "name= \"Anish Das\"\n",
    "\n",
    "print(name)"
   ]
  },
  {
   "cell_type": "markdown",
   "id": "84e6e72e-e3cf-4a34-a82e-606d5677c22a",
   "metadata": {},
   "source": [
    "Q10. Given the string \"Hello, World!\", extract the substring \"World\"."
   ]
  },
  {
   "cell_type": "code",
   "execution_count": 16,
   "id": "bad0c268-6f7b-44d1-8dd0-2cdb3f4631c2",
   "metadata": {},
   "outputs": [
    {
     "name": "stdout",
     "output_type": "stream",
     "text": [
      "World\n"
     ]
    }
   ],
   "source": [
    "s=\"Hello, World!\"\n",
    "substring=s[7:12]\n",
    "print(substring)"
   ]
  },
  {
   "cell_type": "markdown",
   "id": "513f19c7-c954-4ff3-bee4-80ab1a66f62f",
   "metadata": {},
   "source": [
    "Q11. Create a variable named \"is_student\" and assign it a boolean value indicating whether you are\n",
    "currently a student or not."
   ]
  },
  {
   "cell_type": "code",
   "execution_count": 17,
   "id": "9e6d91f9-45e8-4e2b-957d-73b5d91f07f3",
   "metadata": {},
   "outputs": [
    {
     "name": "stdout",
     "output_type": "stream",
     "text": [
      "True\n"
     ]
    }
   ],
   "source": [
    "is_student=True\n",
    "print(is_student)"
   ]
  },
  {
   "cell_type": "code",
   "execution_count": null,
   "id": "c7ef719c-7985-4cfd-b1a8-73df47bd5f9c",
   "metadata": {},
   "outputs": [],
   "source": []
  }
 ],
 "metadata": {
  "kernelspec": {
   "display_name": "Python 3 (ipykernel)",
   "language": "python",
   "name": "python3"
  },
  "language_info": {
   "codemirror_mode": {
    "name": "ipython",
    "version": 3
   },
   "file_extension": ".py",
   "mimetype": "text/x-python",
   "name": "python",
   "nbconvert_exporter": "python",
   "pygments_lexer": "ipython3",
   "version": "3.10.8"
  }
 },
 "nbformat": 4,
 "nbformat_minor": 5
}
