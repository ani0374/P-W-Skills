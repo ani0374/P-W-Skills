{
 "cells": [
  {
   "cell_type": "markdown",
   "id": "9ffc7d5f-2de3-4fbe-88a6-1e28c06745e0",
   "metadata": {},
   "source": [
    "Q1. What is an Exception in python? Write the different  between Exceptions and syntax errors"
   ]
  },
  {
   "cell_type": "markdown",
   "id": "02f566e3-c59d-405a-b59c-5942ae455a40",
   "metadata": {},
   "source": [
    "An exception in Python is an incident that happens while executing a program that causes the regular course of the program's commands to be disrupted. When a Python code comes across a condition it can't handle, it raises an exception. An object in Python that describes an error is called an exception.\n",
    "\n",
    "When a Python code throws an exception, it has two options: handle the exception immediately or stop and quit."
   ]
  },
  {
   "cell_type": "markdown",
   "id": "8cebbfd6-9ae6-4992-833c-ab0d53e7e634",
   "metadata": {},
   "source": [
    "\n",
    "Syntax Errors: These occur before code execution and stem from violations of the language's grammar rules. They prevent the code from running and must be fixed for the code to be executed.\n",
    "\n",
    "Exceptions: These happen during code execution when unexpected situations arise, like division by zero or accessing nonexistent data. They can be caught and handled with appropriate code to prevent program crashes.\n",
    "\n",
    "\n",
    "\n",
    "\n"
   ]
  },
  {
   "cell_type": "markdown",
   "id": "f9858e75-0449-4379-ad5c-31591b4d6236",
   "metadata": {},
   "source": [
    "Q2.What happens when an exception is not handled ? Exception with an example."
   ]
  },
  {
   "cell_type": "markdown",
   "id": "1ba1fe36-9019-4795-a00c-ac0367c5f6f0",
   "metadata": {},
   "source": [
    "When an exception is not handled, it propagates up through the call stack until it reaches the highest level of the program. If the exception is not caught and handled anywhere along this path, it will ultimately lead to the program's termination, and an error message or traceback will be displayed. This can result in a crash and an incomplete or erroneous execution of the program.\n",
    "\n",
    "Let's illustrate this with a simple example in Python:"
   ]
  },
  {
   "cell_type": "code",
   "execution_count": 4,
   "id": "4226f87d-8f0d-486e-bbaf-576edc0fee00",
   "metadata": {},
   "outputs": [
    {
     "ename": "ZeroDivisionError",
     "evalue": "division by zero",
     "output_type": "error",
     "traceback": [
      "\u001b[0;31m---------------------------------------------------------------------------\u001b[0m",
      "\u001b[0;31mZeroDivisionError\u001b[0m                         Traceback (most recent call last)",
      "Cell \u001b[0;32mIn[4], line 5\u001b[0m\n\u001b[1;32m      2\u001b[0m     \u001b[38;5;28;01mreturn\u001b[39;00m a \u001b[38;5;241m/\u001b[39m b\n\u001b[1;32m      4\u001b[0m \u001b[38;5;28;01mtry\u001b[39;00m:\n\u001b[0;32m----> 5\u001b[0m     result \u001b[38;5;241m=\u001b[39m \u001b[43mdivide\u001b[49m\u001b[43m(\u001b[49m\u001b[38;5;241;43m10\u001b[39;49m\u001b[43m,\u001b[49m\u001b[43m \u001b[49m\u001b[38;5;241;43m0\u001b[39;49m\u001b[43m)\u001b[49m\n\u001b[1;32m      6\u001b[0m     \u001b[38;5;28mprint\u001b[39m(\u001b[38;5;124m\"\u001b[39m\u001b[38;5;124mResult:\u001b[39m\u001b[38;5;124m\"\u001b[39m, result)\n\u001b[1;32m      7\u001b[0m \u001b[38;5;28;01mexcept\u001b[39;00m \u001b[38;5;167;01mValueError\u001b[39;00m:\n",
      "Cell \u001b[0;32mIn[4], line 2\u001b[0m, in \u001b[0;36mdivide\u001b[0;34m(a, b)\u001b[0m\n\u001b[1;32m      1\u001b[0m \u001b[38;5;28;01mdef\u001b[39;00m \u001b[38;5;21mdivide\u001b[39m(a, b):\n\u001b[0;32m----> 2\u001b[0m     \u001b[38;5;28;01mreturn\u001b[39;00m \u001b[43ma\u001b[49m\u001b[43m \u001b[49m\u001b[38;5;241;43m/\u001b[39;49m\u001b[43m \u001b[49m\u001b[43mb\u001b[49m\n",
      "\u001b[0;31mZeroDivisionError\u001b[0m: division by zero"
     ]
    }
   ],
   "source": [
    "def divide(a, b):\n",
    "    return a / b\n",
    "\n",
    "try:\n",
    "    result = divide(10, 0)\n",
    "    print(\"Result:\", result)\n",
    "except ValueError:\n",
    "    print(\"Caught a ValueError\")\n"
   ]
  },
  {
   "cell_type": "markdown",
   "id": "417c9c31-88ee-4e1e-bb41-dd89b60e5db5",
   "metadata": {},
   "source": [
    "In this example, the divide function attempts to divide two numbers. However, when b is 0, a ZeroDivisionError exception is raised. The code is wrapped in a try block, and the intention is to catch the exception and handle it gracefully. However, there is no specific except block to catch the ZeroDivisionError.\n",
    "\n",
    "If you run this code without a proper exception handler, the following will happen:\n",
    "\n",
    "The divide function is called with arguments 10 and 0.\n",
    "Since division by zero is not allowed, a ZeroDivisionError exception is raised.\n",
    "The program searches for an appropriate except block to handle the exception.\n",
    "Since there is no except ZeroDivisionError: block in this code, the exception is not caught.\n",
    "As a result, the program terminates abruptly, and an error message is displayed, indicating that a ZeroDivisionError occurred."
   ]
  },
  {
   "cell_type": "markdown",
   "id": "ecf6fbe8-af92-4bdb-b1e1-41cfa3899cd3",
   "metadata": {},
   "source": [
    "Q3. Which Python statements are used to catch and handle exceptions?Explain with an example."
   ]
  },
  {
   "cell_type": "markdown",
   "id": "fcaad2fc-783c-468d-a244-ecc21254b616",
   "metadata": {},
   "source": [
    "The Python statements used to catch and handle exceptions are try and except. The try block contains the code that might raise an exception, and the except block contains the code to handle the exception if it occurs."
   ]
  },
  {
   "cell_type": "code",
   "execution_count": 6,
   "id": "4b172b3a-620b-499c-b89a-8e7c299621d1",
   "metadata": {},
   "outputs": [
    {
     "name": "stdout",
     "output_type": "stream",
     "text": [
      "Error: Division by zero\n"
     ]
    }
   ],
   "source": [
    "def divide(a, b):\n",
    "    try:\n",
    "        result = a / b\n",
    "        return result\n",
    "    except ZeroDivisionError:\n",
    "        print(\"Error: Division by zero\")\n",
    "        return None\n",
    "\n",
    "numerator = 10\n",
    "denominator = 0\n",
    "\n",
    "result = divide(numerator, denominator)\n",
    "\n",
    "if result is not None:\n",
    "    print(f\"Result: {result}\")\n"
   ]
  },
  {
   "cell_type": "markdown",
   "id": "b863be28-56cc-48c3-8af2-f4a9692b59ef",
   "metadata": {},
   "source": [
    "In this example, the try block attempts division, and if a ZeroDivisionError occurs, the code in the except block handles it by printing an error message. The program doesn't crash but provides meaningful output despite the exception."
   ]
  },
  {
   "cell_type": "markdown",
   "id": "6151dfde-b204-409a-b2c4-d7220e3cfb2d",
   "metadata": {},
   "source": [
    "Q4. Explain with an example :\n",
    "    a.try and else\n",
    "    b.finally\n",
    "    c.raise"
   ]
  },
  {
   "cell_type": "markdown",
   "id": "a6551b52-dcd6-4fd5-88d7-1690ae20a2a0",
   "metadata": {},
   "source": [
    "a. try and else:\n",
    "\n",
    "try: Used to enclose code that might raise exceptions.\n",
    "else: Contains code that runs only if no exceptions occurred in the try block."
   ]
  },
  {
   "cell_type": "code",
   "execution_count": 8,
   "id": "fbd18ee1-c54d-47bc-91eb-f4016386ef52",
   "metadata": {},
   "outputs": [
    {
     "name": "stdout",
     "output_type": "stream",
     "text": [
      "Result: 5.0\n"
     ]
    }
   ],
   "source": [
    "try:\n",
    "    result = 10 / 2\n",
    "except ZeroDivisionError:\n",
    "    print(\"Error: Division by zero\")\n",
    "else:\n",
    "    print(\"Result:\", result)\n"
   ]
  },
  {
   "cell_type": "markdown",
   "id": "e41b4c55-26d7-44ce-983a-f0c091337fc2",
   "metadata": {},
   "source": [
    "b. finally:\n",
    "\n",
    "finally: Contains code that always runs, regardless of whether exceptions occurred or not. Often used for cleanup operations."
   ]
  },
  {
   "cell_type": "code",
   "execution_count": 9,
   "id": "ddf9b455-b4dc-4fa3-b113-c27ebd051725",
   "metadata": {},
   "outputs": [
    {
     "name": "stdout",
     "output_type": "stream",
     "text": [
      "File not found\n"
     ]
    }
   ],
   "source": [
    "file = None\n",
    "try:\n",
    "    file = open(\"example.txt\", \"r\")\n",
    "    content = file.read()\n",
    "    print(content)\n",
    "except FileNotFoundError:\n",
    "    print(\"File not found\")\n",
    "finally:\n",
    "    if file:\n",
    "        file.close()\n",
    "        print(\"File closed or not opened\")\n"
   ]
  },
  {
   "cell_type": "markdown",
   "id": "59f4e3f8-09f3-4f36-bbcf-c93d395e972e",
   "metadata": {},
   "source": [
    "c. raise:\n",
    "\n",
    "raise: Explicitly raises an exception with a specified error message."
   ]
  },
  {
   "cell_type": "code",
   "execution_count": 10,
   "id": "244704c9-898f-44d0-a53e-0f172552c91a",
   "metadata": {},
   "outputs": [
    {
     "name": "stdout",
     "output_type": "stream",
     "text": [
      "Hello, Alice!\n",
      "Error: Name must be a string\n"
     ]
    }
   ],
   "source": [
    "def greet(name):\n",
    "    if not isinstance(name, str):\n",
    "        raise TypeError(\"Name must be a string\")\n",
    "    print(f\"Hello, {name}!\")\n",
    "\n",
    "try:\n",
    "    greet(\"Alice\")\n",
    "    greet(123)  # Raises a TypeError\n",
    "except TypeError as e:\n",
    "    print(f\"Error: {e}\")\n"
   ]
  },
  {
   "cell_type": "markdown",
   "id": "951944da-b1af-4f51-aa15-a2c20142806c",
   "metadata": {},
   "source": [
    "Q5. What are Custom Exception in python? Why do we need Custom Exception ? Explain with an example."
   ]
  },
  {
   "cell_type": "markdown",
   "id": "06041bc7-0218-47ae-8e58-eb7b9e4cd960",
   "metadata": {},
   "source": [
    "In Python, a custom exception is an exception that is created by the programmer. It is a subclass of the built-in Exception class. Custom exceptions are useful for handling specific errors that are not handled by the built-in exceptions.\n",
    "\n",
    "Here are some of the reasons why we need custom exceptions:\n",
    "\n",
    "   1.To control the flow of the program. Custom exceptions can be used to control the flow of the program by specifying what should happen when the error occurs. For example, we can use a custom exception to stop the program, print an error message, or log the error to a file.\n",
    "   2.To create a hierarchy of exceptions. Custom exceptions can be organized into a hierarchy, where each exception is a subclass of another exception. This can be useful for grouping related exceptions together and for handling exceptions in a more structured way.\n",
    "   \n",
    "Here is an example of a custom exception:"
   ]
  },
  {
   "cell_type": "code",
   "execution_count": 1,
   "id": "ec702425-48dc-4f1b-970d-2e6ab3d2d803",
   "metadata": {},
   "outputs": [
    {
     "name": "stdout",
     "output_type": "stream",
     "text": [
      "Division by zero\n"
     ]
    }
   ],
   "source": [
    "class MyException(Exception):\n",
    "    \n",
    "\n",
    "    def __init__(self, message):\n",
    "        super().__init__(message)\n",
    "\n",
    "\n",
    "def divide(x, y):\n",
    "    if y == 0:\n",
    "        raise MyException(\"Division by zero\")\n",
    "    return x / y\n",
    "\n",
    "\n",
    "try:\n",
    "    result = divide(10, 0)\n",
    "except MyException as e:\n",
    "    print(e)\n"
   ]
  },
  {
   "cell_type": "markdown",
   "id": "a770a688-85c4-488f-bf50-6cee2b7ca65c",
   "metadata": {},
   "source": [
    "In this example , we have defined a custom exception called MyException. This exception is raised when the divide() function is called with a zero denominator. The MyException class inherits from the built-in Exception class, which means that it has all of the same properties and methods as the Exception class.\n",
    "\n",
    "In the try block, we call the divide() function with 10 and 0 as arguments. This will cause the MyException exception to be raised. The except block catches the MyException exception and prints the error message to the console."
   ]
  },
  {
   "cell_type": "markdown",
   "id": "1db7e82a-7ebf-4692-896a-a698e7fb2544",
   "metadata": {},
   "source": [
    "Create a custom exception class, use this class to handel a exception."
   ]
  },
  {
   "cell_type": "code",
   "execution_count": 1,
   "id": "8b62b0eb-76a8-47eb-9645-72f8cf9e1fb6",
   "metadata": {},
   "outputs": [
    {
     "name": "stdin",
     "output_type": "stream",
     "text": [
      "Enter a number:  -85\n"
     ]
    },
    {
     "name": "stdout",
     "output_type": "stream",
     "text": [
      "Custom Exception: Number should be greater than or equal to 0\n"
     ]
    }
   ],
   "source": [
    "class CustomException(Exception):\n",
    "    def __init__(self, message):\n",
    "        self.message = message\n",
    "        super().__init__(self.message)\n",
    "\n",
    "def custom_function(number):\n",
    "    if number < 0:\n",
    "        raise CustomException(\"Number should be greater than or equal to 0\")\n",
    "    return number * 2\n",
    "\n",
    "try:\n",
    "    num = int(input(\"Enter a number: \"))\n",
    "    result = custom_function(num)\n",
    "    print(\"Result:\", result)\n",
    "except CustomException as ce:\n",
    "    print(\"Custom Exception:\", ce)\n",
    "except ValueError:\n",
    "    print(\"Invalid input. Please enter a valid number.\")\n"
   ]
  },
  {
   "cell_type": "code",
   "execution_count": null,
   "id": "76b4990c-2b59-4907-abcc-dd871d1e207b",
   "metadata": {},
   "outputs": [],
   "source": []
  }
 ],
 "metadata": {
  "kernelspec": {
   "display_name": "Python 3 (ipykernel)",
   "language": "python",
   "name": "python3"
  },
  "language_info": {
   "codemirror_mode": {
    "name": "ipython",
    "version": 3
   },
   "file_extension": ".py",
   "mimetype": "text/x-python",
   "name": "python",
   "nbconvert_exporter": "python",
   "pygments_lexer": "ipython3",
   "version": "3.10.8"
  }
 },
 "nbformat": 4,
 "nbformat_minor": 5
}
