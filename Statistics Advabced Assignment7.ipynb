{
 "cells": [
  {
   "cell_type": "markdown",
   "id": "53957cca-bc9f-499c-920d-c751a117377c",
   "metadata": {},
   "source": [
    "Q1. Write a Python function that takes in two arrays of data and calculates the F-value for a variance ratio\n",
    "test. The function should return the F-value and the corresponding p-value for the test."
   ]
  },
  {
   "cell_type": "code",
   "execution_count": 3,
   "id": "95ed6984-20d2-4b40-9794-9199f017e7bf",
   "metadata": {},
   "outputs": [
    {
     "name": "stdout",
     "output_type": "stream",
     "text": [
      "F-value: 0.28256070640176606\n",
      "P-value: 0.6094664845685538\n"
     ]
    }
   ],
   "source": [
    "import numpy as np\n",
    "from scipy.stats import f_oneway\n",
    "\n",
    "def calculate_f_value(data1, data2):\n",
    "    \n",
    "    data1 = np.array(data1)\n",
    "    data2 = np.array(data2)\n",
    "    \n",
    "    \n",
    "    f_value, p_value = f_oneway(data1, data2)\n",
    "    \n",
    "    return f_value, p_value\n",
    "\n",
    "data1 = [12, 15, 18, 21, 24]\n",
    "data2 = [10, 14, 16, 20, 22]\n",
    "\n",
    "f_value, p_value = calculate_f_value(data1, data2)\n",
    "print(\"F-value:\", f_value)\n",
    "print(\"P-value:\", p_value)\n"
   ]
  },
  {
   "cell_type": "markdown",
   "id": "fbf646f4-2966-4ba6-9f54-95a90e0b574f",
   "metadata": {},
   "source": [
    "Q2. Given a significance level of 0.05 and the degrees of freedom for the numerator and denominator of an\n",
    "F-distribution, write a Python function that returns the critical F-value for a two-tailed test."
   ]
  },
  {
   "cell_type": "code",
   "execution_count": 4,
   "id": "6a968f76-eec6-4f3f-abfa-8e3cd2a37f95",
   "metadata": {},
   "outputs": [
    {
     "name": "stdout",
     "output_type": "stream",
     "text": [
      "Critical F-value: 5.456395525912731\n"
     ]
    }
   ],
   "source": [
    "from scipy.stats import f\n",
    "\n",
    "def critical_f_value(significance_level, dfn, dfd):\n",
    "    \n",
    "    alpha = significance_level / 2  \n",
    "    critical_f = f.ppf(1 - alpha, dfn, dfd) \n",
    "    return critical_f\n",
    "\n",
    "\n",
    "significance_level = 0.05\n",
    "dfn = 2\n",
    "dfd = 10\n",
    "\n",
    "critical_f = critical_f_value(significance_level, dfn, dfd)\n",
    "print(\"Critical F-value:\", critical_f)\n"
   ]
  },
  {
   "cell_type": "markdown",
   "id": "b86d1a30-8e0a-4a43-ac65-5ec4ce478886",
   "metadata": {},
   "source": [
    "Q3. Write a Python program that generates random samples from two normal distributions with known\n",
    "\n",
    "variances and uses an F-test to determine if the variances are equal. The program should output the F-\n",
    "value, degrees of freedom, and p-value for the test."
   ]
  },
  {
   "cell_type": "code",
   "execution_count": 8,
   "id": "814b3997-0e72-43da-869e-b2981c68cf24",
   "metadata": {},
   "outputs": [
    {
     "name": "stdout",
     "output_type": "stream",
     "text": [
      "F-value: 0.003327339309398113\n",
      "Degrees of freedom (numerator): 29\n",
      "Degrees of freedom (denominator): 29\n",
      "P-value: 0.9541993325655181\n"
     ]
    }
   ],
   "source": [
    "import numpy as np\n",
    "from scipy.stats import f_oneway\n",
    "\n",
    "def perform_variance_equality_test(data1, data2):\n",
    "    \n",
    "    \n",
    "    data1 = np.array(data1)\n",
    "    data2 = np.array(data2)\n",
    "\n",
    "    f_value, p_value = f_oneway(data1, data2)\n",
    "    dfn = len(data1) - 1 \n",
    "    dfd = len(data2) - 1  \n",
    "    return f_value, dfn, dfd, p_value\n",
    "\n",
    "\n",
    "np.random.seed(42)  \n",
    "sample_size = 30\n",
    "mean1 = 0\n",
    "variance1 = 1\n",
    "data1 = np.random.normal(mean1, np.sqrt(variance1), sample_size)\n",
    "\n",
    "mean2 = 0\n",
    "variance2 = 2  \n",
    "data2 = np.random.normal(mean2, np.sqrt(variance2), sample_size)\n",
    "\n",
    "f_value, dfn, dfd, p_value = perform_variance_equality_test(data1, data2)\n",
    "\n",
    "print(\"F-value:\", f_value)\n",
    "print(\"Degrees of freedom (numerator):\", dfn)\n",
    "print(\"Degrees of freedom (denominator):\", dfd)\n",
    "print(\"P-value:\", p_value)\n"
   ]
  },
  {
   "cell_type": "markdown",
   "id": "a851efb1-3ab3-41df-bf46-c186d167a926",
   "metadata": {},
   "source": [
    "Q4.The variances of two populations are known to be 10 and 15. A sample of 12 observations is taken from\n",
    "each population. Conduct an F-test at the 5% significance level to determine if the variances are\n",
    "significantly different."
   ]
  },
  {
   "cell_type": "markdown",
   "id": "f797c5de-870e-4202-b870-be50b4bbee96",
   "metadata": {},
   "source": [
    "To conduct an F-test to determine if the variances of two populations are significantly different, you can use the following steps:\n",
    "\n",
    "1. Define your hypotheses:\n",
    "   - Null Hypothesis (H0): The variances of the two populations are equal.\n",
    "   - Alternative Hypothesis (Ha): The variances of the two populations are not equal (significantly different).\n",
    "\n",
    "2. Set the significance level (alpha) to 0.05.\n",
    "\n",
    "3. Calculate the F-statistic using the formula for the F-test:\n",
    "\n",
    "   \\[ F = \\frac{S1^2}{S2^2} \\]\n",
    "\n",
    "   where \\(S1^2\\) is the sample variance of the first population, and \\(S2^2\\) is the sample variance of the second population.\n",
    "\n",
    "4. Determine the degrees of freedom for both populations. For two populations with sample sizes of 12, the degrees of freedom are 11 for each population.\n",
    "\n",
    "5. Use the F-distribution table or a statistical calculator to find the critical F-value at the 5% significance level for degrees of freedom (11, 11). You can also use the `scipy.stats` module in Python to find the critical value.\n",
    "\n",
    "6. Compare the calculated F-statistic to the critical F-value. If the calculated F-statistic is greater than the critical F-value, reject the null hypothesis.\n",
    "\n",
    "Here's a Python code example to conduct the F-test and determine if the variances are significantly different:\n",
    "\n"
   ]
  },
  {
   "cell_type": "code",
   "execution_count": 10,
   "id": "1ae574ae-0e43-4b44-95e2-ead17b65a9ca",
   "metadata": {},
   "outputs": [
    {
     "name": "stdout",
     "output_type": "stream",
     "text": [
      "Fail to reject the null hypothesis: The variances are not significantly different.\n"
     ]
    }
   ],
   "source": [
    "from scipy.stats import f\n",
    "\n",
    "variance1 = 10\n",
    "variance2 = 15\n",
    "sample_size = 12\n",
    "\n",
    "f_statistic = variance1 / variance2\n",
    "\n",
    "dfn = sample_size - 1\n",
    "dfd = sample_size - 1\n",
    "\n",
    "alpha = 0.05\n",
    "\n",
    "critical_f = f.ppf(1 - alpha/2, dfn, dfd)\n",
    "\n",
    "if f_statistic > critical_f:\n",
    "    print(\"Reject the null hypothesis: The variances are significantly different.\")\n",
    "else:\n",
    "    print(\"Fail to reject the null hypothesis: The variances are not significantly different.\")\n"
   ]
  },
  {
   "cell_type": "markdown",
   "id": "14322e11-0e55-4328-82b6-c991098abef8",
   "metadata": {},
   "source": [
    "Q5. A manufacturer claims that the variance of the diameter of a certain product is 0.005. A sample of 25\n",
    "products is taken, and the sample variance is found to be 0.006. Conduct an F-test at the 1% significance\n",
    "level to determine if the claim is justified."
   ]
  },
  {
   "cell_type": "code",
   "execution_count": 11,
   "id": "4d24d44e-2773-4a3c-a8d7-923910b2623b",
   "metadata": {},
   "outputs": [
    {
     "name": "stdout",
     "output_type": "stream",
     "text": [
      "Fail to reject the null hypothesis: The manufacturer's claim is justified.\n"
     ]
    }
   ],
   "source": [
    "from scipy.stats import f\n",
    "\n",
    "# Given values\n",
    "claimed_variance = 0.005\n",
    "sample_variance = 0.006\n",
    "sample_size = 25\n",
    "\n",
    "# Calculate the F-statistic\n",
    "f_statistic = sample_variance / claimed_variance\n",
    "\n",
    "# Degrees of freedom\n",
    "dfn = sample_size - 1\n",
    "dfd = sample_size - 1\n",
    "\n",
    "# Set the significance level (alpha)\n",
    "alpha = 0.01\n",
    "\n",
    "# Find the critical F-value\n",
    "critical_f = f.ppf(1 - alpha/2, dfn, dfd)\n",
    "\n",
    "# Determine if the null hypothesis should be rejected\n",
    "if f_statistic > critical_f:\n",
    "    print(\"Reject the null hypothesis: The manufacturer's claim is not justified.\")\n",
    "else:\n",
    "    print(\"Fail to reject the null hypothesis: The manufacturer's claim is justified.\")\n"
   ]
  },
  {
   "cell_type": "markdown",
   "id": "0e207230-bfaa-471b-84ba-881a1a9ce802",
   "metadata": {},
   "source": [
    "Q6. Write a Python function that takes in the degrees of freedom for the numerator and denominator of an\n",
    "F-distribution and calculates the mean and variance of the distribution. The function should return the\n",
    "mean and variance as a tuple."
   ]
  },
  {
   "cell_type": "code",
   "execution_count": 12,
   "id": "93de122e-ca3b-47a7-bc76-253f99c26063",
   "metadata": {},
   "outputs": [
    {
     "name": "stdout",
     "output_type": "stream",
     "text": [
      "Mean: 1.25\n",
      "Variance: 1.3541666666666667\n"
     ]
    }
   ],
   "source": [
    "def f_distribution_mean_variance(dfn, dfd):\n",
    "    \n",
    "    if dfn <= 0 or dfd <= 0:\n",
    "        raise ValueError(\"Degrees of freedom must be greater than 0.\")\n",
    "    \n",
    "    if dfd <= 2:\n",
    "        raise ValueError(\"Degrees of freedom for the denominator must be greater than 2.\")\n",
    "\n",
    "    mean = dfd / (dfd - 2)\n",
    "    variance = (2 * (dfd ** 2) * (dfn + dfd - 2)) / (dfn * (dfd - 2) ** 2 * (dfd - 4))\n",
    "    \n",
    "    return mean, variance\n",
    "\n",
    "dfn = 5\n",
    "dfd = 10\n",
    "\n",
    "mean, variance = f_distribution_mean_variance(dfn, dfd)\n",
    "print(\"Mean:\", mean)\n",
    "print(\"Variance:\", variance)\n"
   ]
  },
  {
   "cell_type": "markdown",
   "id": "9f989b6e-b291-49be-8a39-d08fd0efccee",
   "metadata": {},
   "source": [
    "Q7. A random sample of 10 measurements is taken from a normal population with unknown variance. The\n",
    "sample variance is found to be 25. Another random sample of 15 measurements is taken from another\n",
    "normal population with unknown variance, and the sample variance is found to be 20. Conduct an F-test\n",
    "at the 10% significance level to determine if the variances are significantly different."
   ]
  },
  {
   "cell_type": "code",
   "execution_count": 13,
   "id": "eb1ff554-ce79-438b-b453-33ad14e9a071",
   "metadata": {},
   "outputs": [
    {
     "name": "stdout",
     "output_type": "stream",
     "text": [
      "Fail to reject the null hypothesis: The variances are not significantly different.\n"
     ]
    }
   ],
   "source": [
    "from scipy.stats import f\n",
    "\n",
    "# Given sample variances and sample sizes\n",
    "sample_variance1 = 25\n",
    "sample_variance2 = 20\n",
    "sample_size1 = 10\n",
    "sample_size2 = 15\n",
    "\n",
    "# Calculate the F-statistic\n",
    "f_statistic = sample_variance1 / sample_variance2\n",
    "\n",
    "# Degrees of freedom\n",
    "dfn1 = sample_size1 - 1\n",
    "dfn2 = sample_size2 - 1\n",
    "\n",
    "# Set the significance level (alpha)\n",
    "alpha = 0.10\n",
    "\n",
    "# Find the critical F-value\n",
    "critical_f = f.ppf(1 - alpha/2, dfn1, dfn2)\n",
    "\n",
    "# Determine if the null hypothesis should be rejected\n",
    "if f_statistic > critical_f:\n",
    "    print(\"Reject the null hypothesis: The variances are not significantly different.\")\n",
    "else:\n",
    "    print(\"Fail to reject the null hypothesis: The variances are not significantly different.\")\n"
   ]
  },
  {
   "cell_type": "markdown",
   "id": "1b217cf9-f819-41a1-8efd-5c03c2b7d63f",
   "metadata": {},
   "source": [
    "Q8. The following data represent the waiting times in minutes at two different restaurants on a Saturday\n",
    "night: Restaurant A: 24, 25, 28, 23, 22, 20, 27; Restaurant B: 31, 33, 35, 30, 32, 36. Conduct an F-test at the 5%\n",
    "significance level to determine if the variances are significantly different."
   ]
  },
  {
   "cell_type": "code",
   "execution_count": 14,
   "id": "9a3e0847-547b-4776-ac84-c59e369089f8",
   "metadata": {},
   "outputs": [
    {
     "name": "stdout",
     "output_type": "stream",
     "text": [
      "Fail to reject the null hypothesis: The variances are not significantly different.\n"
     ]
    }
   ],
   "source": [
    "from scipy.stats import f\n",
    "\n",
    "# Waiting times data\n",
    "waiting_times_A = [24, 25, 28, 23, 22, 20, 27]\n",
    "waiting_times_B = [31, 33, 35, 30, 32, 36]\n",
    "\n",
    "# Calculate the sample variances\n",
    "sample_variance_A = np.var(waiting_times_A, ddof=1)  # ddof=1 for unbiased estimate\n",
    "sample_variance_B = np.var(waiting_times_B, ddof=1)\n",
    "\n",
    "# Calculate the F-statistic\n",
    "f_statistic = sample_variance_A / sample_variance_B\n",
    "\n",
    "# Degrees of freedom\n",
    "dfn_A = len(waiting_times_A) - 1\n",
    "dfn_B = len(waiting_times_B) - 1\n",
    "\n",
    "# Set the significance level (alpha)\n",
    "alpha = 0.05\n",
    "\n",
    "# Find the critical F-value\n",
    "critical_f = f.ppf(1 - alpha/2, dfn_A, dfn_B)\n",
    "\n",
    "# Determine if the null hypothesis should be rejected\n",
    "if f_statistic > critical_f:\n",
    "    print(\"Reject the null hypothesis: The variances are not significantly different.\")\n",
    "else:\n",
    "    print(\"Fail to reject the null hypothesis: The variances are not significantly different.\")\n"
   ]
  },
  {
   "cell_type": "markdown",
   "id": "e5cf524a-2c74-49b8-b4c7-f6e6886e3e0d",
   "metadata": {},
   "source": [
    "Q9. The following data represent the test scores of two groups of students: Group A: 80, 85, 90, 92, 87, 83;\n",
    "Group B: 75, 78, 82, 79, 81, 84. Conduct an F-test at the 1% significance level to determine if the variances\n",
    "are significantly different."
   ]
  },
  {
   "cell_type": "code",
   "execution_count": 15,
   "id": "d4f28ee7-4d9b-4054-b12e-5b2e2cda8967",
   "metadata": {},
   "outputs": [
    {
     "name": "stdout",
     "output_type": "stream",
     "text": [
      "Fail to reject the null hypothesis: The variances are not significantly different.\n"
     ]
    }
   ],
   "source": [
    "from scipy.stats import f\n",
    "\n",
    "# Test scores data\n",
    "test_scores_A = [80, 85, 90, 92, 87, 83]\n",
    "test_scores_B = [75, 78, 82, 79, 81, 84]\n",
    "\n",
    "# Calculate the sample variances\n",
    "sample_variance_A = np.var(test_scores_A, ddof=1)  # ddof=1 for unbiased estimate\n",
    "sample_variance_B = np.var(test_scores_B, ddof=1)\n",
    "\n",
    "# Calculate the F-statistic\n",
    "f_statistic = sample_variance_A / sample_variance_B\n",
    "\n",
    "# Degrees of freedom\n",
    "dfn_A = len(test_scores_A) - 1\n",
    "dfn_B = len(test_scores_B) - 1\n",
    "\n",
    "# Set the significance level (alpha)\n",
    "alpha = 0.01\n",
    "\n",
    "# Find the critical F-value\n",
    "critical_f = f.ppf(1 - alpha/2, dfn_A, dfn_B)\n",
    "\n",
    "# Determine if the null hypothesis should be rejected\n",
    "if f_statistic > critical_f:\n",
    "    print(\"Reject the null hypothesis: The variances are not significantly different.\")\n",
    "else:\n",
    "    print(\"Fail to reject the null hypothesis: The variances are not significantly different.\")\n"
   ]
  },
  {
   "cell_type": "code",
   "execution_count": null,
   "id": "265f3c3b-e371-4d38-b8d8-6d5ad68d086d",
   "metadata": {},
   "outputs": [],
   "source": []
  }
 ],
 "metadata": {
  "kernelspec": {
   "display_name": "Python 3 (ipykernel)",
   "language": "python",
   "name": "python3"
  },
  "language_info": {
   "codemirror_mode": {
    "name": "ipython",
    "version": 3
   },
   "file_extension": ".py",
   "mimetype": "text/x-python",
   "name": "python",
   "nbconvert_exporter": "python",
   "pygments_lexer": "ipython3",
   "version": "3.10.8"
  }
 },
 "nbformat": 4,
 "nbformat_minor": 5
}
