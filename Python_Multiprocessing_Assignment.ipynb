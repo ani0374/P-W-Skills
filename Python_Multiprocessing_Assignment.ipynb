{
 "cells": [
  {
   "cell_type": "markdown",
   "id": "e7d37d99-1ed0-4905-94c4-aed9d3b1aff5",
   "metadata": {},
   "source": [
    "Q1. What is multiprocessing in python? Why is it useful?"
   ]
  },
  {
   "cell_type": "markdown",
   "id": "24c42f5f-af35-47eb-bed4-7c531c3813a7",
   "metadata": {},
   "source": [
    "Multiprocessing in Python is a way of running multiple processes simultaneously. A process is a program in execution. Each process has its own memory space, so they can run independently of each other.\n",
    "\n",
    "Multiprocessing is useful for various reasons:\n",
    "    1. Multiprocessing allows programs to execute tasks in parallel on different CPU cores, taking full advantage of multi-core systems.\n",
    "    2.Each process has its own memory space, which provides strong isolation between processes. \n",
    "    3.processes don't share memory, one misbehaving process is less likely to affect others. If one process crashes, it typically doesn't lead to the entire program crashing.\n",
    "    4.Efficient I/O Handling is the another reason of useful multiprocessing.\n",
    "    5.By spreading tasks across multiple processes, you can make better use of the available hardware resources and reduce the time it takes to complete a set of tasks."
   ]
  },
  {
   "cell_type": "markdown",
   "id": "b601ec35-8e90-464b-aad6-459ebe8e3f22",
   "metadata": {},
   "source": [
    "Q2. What are the differences between multiprocessing and multithreading?"
   ]
  },
  {
   "cell_type": "markdown",
   "id": "a595bf09-de7d-4ee3-9256-0f52979575e9",
   "metadata": {},
   "source": [
    "Multiprocessing:\n",
    "\n",
    "Uses multiple processes, each with its own memory space.\n",
    "Achieves true parallelism on multi-core systems.\n",
    "Suitable for CPU-bound tasks with heavy computation.\n",
    "Higher overhead due to separate memory space and inter-process communication.\n",
    "Processes are isolated, making debugging easier.\n",
    "Scales well with the number of CPU cores.\n",
    "Multithreading:\n",
    "\n",
    "Uses multiple threads within a single process, sharing the same memory space.\n",
    "Might not achieve true parallelism due to the Global Interpreter Lock (GIL) in Python.\n",
    "More suitable for I/O-bound tasks and concurrent tasks with shared resources.\n",
    "Lower overhead due to shared memory, but requires careful synchronization.\n",
    "Threads can lead to race conditions and complex debugging.\n",
    "Limited scalability due to the GIL's impact on CPU-bound tasks."
   ]
  },
  {
   "cell_type": "markdown",
   "id": "b35259f6-c12c-4ee7-8dbb-51bd01bf2fed",
   "metadata": {},
   "source": [
    "Q3. Write a python code to create a process using the multiprocessing module."
   ]
  },
  {
   "cell_type": "code",
   "execution_count": 3,
   "id": "5711a5a7-6a12-4e75-882c-c47ab8a8d4b9",
   "metadata": {},
   "outputs": [
    {
     "name": "stdout",
     "output_type": "stream",
     "text": [
      "1\n",
      "4\n",
      "9\n",
      "16\n",
      "25\n",
      "36\n",
      "49\n",
      "64\n",
      "81\n",
      "100\n"
     ]
    }
   ],
   "source": [
    "import multiprocessing\n",
    "\n",
    "def print_squares(n):\n",
    "    for i in range(1, n + 1):\n",
    "        print(i * i)\n",
    "\n",
    "if __name__ == \"__main__\":\n",
    "    n = 10\n",
    "    p = multiprocessing.Process(target=print_squares, args=(n,))\n",
    "\n",
    "    p.start()\n",
    "    p.join()\n"
   ]
  },
  {
   "cell_type": "markdown",
   "id": "83b62452-5c2d-4fc8-8f8b-e2e52320989b",
   "metadata": {},
   "source": [
    "Q4. What is a multiprocessing pool in python? Why is it used?"
   ]
  },
  {
   "cell_type": "markdown",
   "id": "847eab6f-8522-4c38-96fd-2b1381bb56cf",
   "metadata": {},
   "source": [
    "A multiprocessing pool in Python refers to a mechanism provided by the multiprocessing module, which allows you to parallelize the execution of a function across multiple processes. It's a way to take advantage of multiple CPU cores or processors to speed up the execution of tasks that can be easily parallelized."
   ]
  },
  {
   "cell_type": "markdown",
   "id": "03ce1b13-7a94-4207-8502-de250a2299b0",
   "metadata": {},
   "source": [
    "The multiprocessing pool can be used to speed up computationally intensive tasks by dividing them into smaller tasks that can be executed in parallel by different processes. For example, you could use a multiprocessing pool to calculate the Fibonacci numbers for a large number of values.\n",
    "\n",
    "To use the multiprocessing pool, you first need to create a pool object. The pool object has a apply() method that you can use to submit tasks to the pool. The apply() method takes a function and its arguments as input, and it returns the result of the function call."
   ]
  },
  {
   "cell_type": "markdown",
   "id": "8e6e720f-8d2a-4a73-b173-eb2278821a2c",
   "metadata": {},
   "source": [
    "Q5. How can we create a pool of worker processes in python using the multiprocessing module?"
   ]
  },
  {
   "cell_type": "markdown",
   "id": "1a8e5a14-af81-46a5-a264-2a077563e91f",
   "metadata": {},
   "source": [
    "Here are the steps on how to create a pool of worker processes in Python using the multiprocessing module:\n",
    "\n",
    "1.Import the multiprocessing module.\n",
    "2.Create a Pool object. The Pool object has a processes argument that specifies the number of worker processes to create. The default value for the processes argument is the number of available CPUs.\n",
    "3.Submit tasks to the Pool object. The Pool object has a apply() method that you can use to submit tasks to the pool. The apply() method takes a function and its arguments as input, and it returns the result of the function call.\n",
    "4.Wait for the Pool object to finish. The Pool object has a join() method that you can use to wait for the pool to finish.\n"
   ]
  },
  {
   "cell_type": "markdown",
   "id": "2c6b1d79-78cd-472f-9b6a-2421dd9c04ba",
   "metadata": {},
   "source": [
    "Q6. Write a python program to create 4 processes, each process should print a different number using the\n",
    "multiprocessing module in python."
   ]
  },
  {
   "cell_type": "code",
   "execution_count": 2,
   "id": "be05bc03-ac79-4f00-8e97-db3f7464a697",
   "metadata": {
    "tags": []
   },
   "outputs": [
    {
     "name": "stdout",
     "output_type": "stream",
     "text": [
      "Process 0: 0\n",
      "Process 1: 1\n",
      "Process 2: 2\n",
      "Process 3: 3\n"
     ]
    }
   ],
   "source": [
    "import multiprocessing\n",
    "\n",
    "def print_number(number):\n",
    "    print(f\"Process {number}: {number}\")\n",
    "\n",
    "\n",
    "if __name__ == \"__main__\":\n",
    "    processes = []\n",
    "    for i in range(4):\n",
    "        process = multiprocessing.Process(target=print_number, args=(i,))\n",
    "        processes.append(process)\n",
    "\n",
    "    for process in processes:\n",
    "        process.start()\n",
    "\n",
    "    for process in processes:\n",
    "        process.join()\n"
   ]
  },
  {
   "cell_type": "code",
   "execution_count": null,
   "id": "275cba4b-c111-4368-b3ae-08fc712dfff2",
   "metadata": {},
   "outputs": [],
   "source": []
  },
  {
   "cell_type": "code",
   "execution_count": null,
   "id": "81a310d0-8b06-4244-a545-89de1d58aba8",
   "metadata": {},
   "outputs": [],
   "source": []
  }
 ],
 "metadata": {
  "kernelspec": {
   "display_name": "Python 3 (ipykernel)",
   "language": "python",
   "name": "python3"
  },
  "language_info": {
   "codemirror_mode": {
    "name": "ipython",
    "version": 3
   },
   "file_extension": ".py",
   "mimetype": "text/x-python",
   "name": "python",
   "nbconvert_exporter": "python",
   "pygments_lexer": "ipython3",
   "version": "3.10.8"
  }
 },
 "nbformat": 4,
 "nbformat_minor": 5
}
