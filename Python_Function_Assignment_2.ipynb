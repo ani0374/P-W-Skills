{
 "cells": [
  {
   "cell_type": "markdown",
   "id": "9c325775-676e-4b46-a781-87afef8e85bf",
   "metadata": {},
   "source": [
    "Q1. Create a python program to sort the given list of tuples based on integer value using a\n",
    "lambda function."
   ]
  },
  {
   "cell_type": "code",
   "execution_count": 5,
   "id": "bc3d3933-1787-459f-aa2d-dfc74deb2321",
   "metadata": {},
   "outputs": [
    {
     "name": "stdout",
     "output_type": "stream",
     "text": [
      "[('Jack Kallis', 25534), ('Ricky Ponting', 27483), ('Sachin Tendulkar', 34357), ('Virat Kohli', 24936)]\n"
     ]
    }
   ],
   "source": [
    "data = [('Sachin Tendulkar', 34357), ('Ricky Ponting', 27483), ('Jack Kallis', 25534), ('Virat Kohli', 24936)]\n",
    "data.sort(key=lambda x: x[0])\n",
    "\n",
    "print(data)\n"
   ]
  },
  {
   "cell_type": "markdown",
   "id": "80b2d97c-0ba4-42f6-9267-7860fef972f4",
   "metadata": {},
   "source": [
    "Q2. Write a Python Program to find the squares of all the numbers in the given list of integers using\n",
    "lambda and map functions."
   ]
  },
  {
   "cell_type": "code",
   "execution_count": 7,
   "id": "dabd8857-54e6-4fa6-a745-19e3d740f347",
   "metadata": {},
   "outputs": [
    {
     "name": "stdout",
     "output_type": "stream",
     "text": [
      "[1, 4, 9, 16, 25, 36, 49, 64, 81, 100]\n"
     ]
    }
   ],
   "source": [
    "num=[1, 2, 3, 4, 5, 6, 7, 8, 9, 10]\n",
    "re=map(lambda x:x*x,num)\n",
    "print(list(re))"
   ]
  },
  {
   "cell_type": "markdown",
   "id": "aba96fdc-803d-4da5-b7ca-1a0e18e2723f",
   "metadata": {},
   "source": [
    "Q3. Write a python program to convert the given list of integers into a tuple of strings. Use map and\n",
    "lambda functions"
   ]
  },
  {
   "cell_type": "code",
   "execution_count": 12,
   "id": "49ac5bf4-ce32-46b7-baf0-7a35bfcc2815",
   "metadata": {},
   "outputs": [
    {
     "name": "stdout",
     "output_type": "stream",
     "text": [
      "('1', '2', '3', '4', '5', '6', '7', '8', '9', '10')\n"
     ]
    }
   ],
   "source": [
    "l1=[1, 2, 3, 4, 5, 6, 7, 8, 9, 10]\n",
    "re=tuple(map(lambda x: str(x),l1))\n",
    "\n",
    "\n",
    "print(re)"
   ]
  },
  {
   "cell_type": "markdown",
   "id": "3bee8d98-5e7a-4083-8fce-3e235a8280f7",
   "metadata": {},
   "source": [
    "Q4. Write a python program using reduce function to compute the product of a list containing numbers\n",
    "from 1 to 25."
   ]
  },
  {
   "cell_type": "code",
   "execution_count": 16,
   "id": "6b735e94-0970-4284-8a92-3cf86346f86b",
   "metadata": {},
   "outputs": [
    {
     "name": "stdout",
     "output_type": "stream",
     "text": [
      "15511210043330985984000000\n"
     ]
    }
   ],
   "source": [
    "from functools import reduce\n",
    "def mul(a, b):\n",
    "    return a * b\n",
    "no_list = list(range(1, 26))\n",
    "p = reduce(mul, no_list)\n",
    "print(p)\n"
   ]
  },
  {
   "cell_type": "markdown",
   "id": "046c2c22-359d-4947-b32d-cf7ef960ef29",
   "metadata": {},
   "source": [
    "Q5. Write a python program to filter the numbers in a given list that are divisible by 2 and 3 using the\n",
    "filter function."
   ]
  },
  {
   "cell_type": "code",
   "execution_count": 18,
   "id": "582c9a31-ceb0-4403-bf00-49d52b70ef80",
   "metadata": {},
   "outputs": [
    {
     "data": {
      "text/plain": [
       "[6, 60, 90, 120]"
      ]
     },
     "execution_count": 18,
     "metadata": {},
     "output_type": "execute_result"
    }
   ],
   "source": [
    "l1=[2, 3, 6, 9, 27, 60, 90, 120, 55, 46]\n",
    "list(filter(lambda x:x%2 ==0 and x%3==0,l1))"
   ]
  },
  {
   "cell_type": "markdown",
   "id": "632552e7-db49-429f-9bf6-a802dc014aec",
   "metadata": {},
   "source": [
    "Q6. Write a python program to find palindromes in the given list of strings using lambda and filter\n",
    "function."
   ]
  },
  {
   "cell_type": "code",
   "execution_count": 20,
   "id": "a6883dee-af40-4d84-8373-6f238c6fcd8c",
   "metadata": {},
   "outputs": [
    {
     "name": "stdout",
     "output_type": "stream",
     "text": [
      "['php', 'aba', 'radar', 'level']\n"
     ]
    }
   ],
   "source": [
    "\n",
    "words_list = ['python', 'php', 'aba', 'radar', 'level']\n",
    "is_palindrome = lambda word: word == word[::-1]\n",
    "palindromes = filter(is_palindrome, words_list)\n",
    "palindromes_list = list(palindromes)\n",
    "print(palindromes_list)\n"
   ]
  },
  {
   "cell_type": "code",
   "execution_count": null,
   "id": "6b001524-19b5-435f-9eff-9de5444d1cb4",
   "metadata": {},
   "outputs": [],
   "source": []
  }
 ],
 "metadata": {
  "kernelspec": {
   "display_name": "Python 3 (ipykernel)",
   "language": "python",
   "name": "python3"
  },
  "language_info": {
   "codemirror_mode": {
    "name": "ipython",
    "version": 3
   },
   "file_extension": ".py",
   "mimetype": "text/x-python",
   "name": "python",
   "nbconvert_exporter": "python",
   "pygments_lexer": "ipython3",
   "version": "3.10.8"
  }
 },
 "nbformat": 4,
 "nbformat_minor": 5
}
