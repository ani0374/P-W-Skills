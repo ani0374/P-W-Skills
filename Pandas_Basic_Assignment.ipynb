{
 "cells": [
  {
   "cell_type": "markdown",
   "id": "0ec2dc24-379a-4be1-a4b7-2246d72c335a",
   "metadata": {},
   "source": [
    "Q1. Create a Pandas Series that contains the following data: 4, 8, 15, 16, 23, and 42. Then, print the series."
   ]
  },
  {
   "cell_type": "code",
   "execution_count": 4,
   "id": "f31a750f-72c0-4b02-a804-66dd2456ec7d",
   "metadata": {},
   "outputs": [
    {
     "name": "stdout",
     "output_type": "stream",
     "text": [
      "0     4\n",
      "1     8\n",
      "2    15\n",
      "3    16\n",
      "4    23\n",
      "5    42\n",
      "dtype: int64\n"
     ]
    }
   ],
   "source": [
    "import pandas as pd\n",
    "\n",
    "data = [4, 8, 15, 16, 23, 42]\n",
    "my_series = pd.Series(data)\n",
    "\n",
    "print(my_series)\n"
   ]
  },
  {
   "cell_type": "markdown",
   "id": "8555a725-77f2-40d0-9c83-d01afff76536",
   "metadata": {},
   "source": [
    "Q2. Create a variable of list type containing 10 elements in it, and apply pandas.Series function on the\n",
    "variable print it."
   ]
  },
  {
   "cell_type": "code",
   "execution_count": 5,
   "id": "f28e66b2-63b0-467b-97e7-8a2068ab3b48",
   "metadata": {},
   "outputs": [
    {
     "name": "stdout",
     "output_type": "stream",
     "text": [
      "0     1\n",
      "1     2\n",
      "2     3\n",
      "3     4\n",
      "4     5\n",
      "5     6\n",
      "6     7\n",
      "7     8\n",
      "8     9\n",
      "9    10\n",
      "dtype: int64\n"
     ]
    }
   ],
   "source": [
    "import pandas as pd\n",
    "\n",
    "my_list = [1, 2, 3, 4, 5, 6, 7, 8, 9, 10]\n",
    "my_series = pd.Series(my_list)\n",
    "\n",
    "print(my_series)"
   ]
  },
  {
   "cell_type": "markdown",
   "id": "9d74623e-8bfc-472a-b443-cf6b9c7e71ef",
   "metadata": {},
   "source": [
    "Q3. Create a Pandas DataFrame that contains the following data:"
   ]
  },
  {
   "cell_type": "code",
   "execution_count": 7,
   "id": "d2da007a-a230-4328-9c5b-76a0081691dd",
   "metadata": {},
   "outputs": [
    {
     "name": "stdout",
     "output_type": "stream",
     "text": [
      "  Name  Age Gender\n",
      " Alice   25 Female\n",
      "   Bob   30   Male\n",
      "Claire   27 Female\n"
     ]
    }
   ],
   "source": [
    "import pandas as pd\n",
    "\n",
    "data = {\n",
    "    \"Name\": [\"Alice\", \"Bob\", \"Claire\"],\n",
    "    \"Age\": [25, 30, 27],\n",
    "    \"Gender\": [\"Female\", \"Male\", \"Female\"]\n",
    "}\n",
    "\n",
    "df = pd.DataFrame(data)\n",
    "\n",
    "print(df.to_string(index=False))\n",
    "\n"
   ]
  },
  {
   "cell_type": "markdown",
   "id": "a1d9f5dd-c49d-4d89-b292-0c42abbb0e43",
   "metadata": {},
   "source": [
    "Q4. What is ‘DataFrame’ in pandas and how is it different from pandas.series? Explain with an example."
   ]
  },
  {
   "cell_type": "markdown",
   "id": "f5cd26ea-446d-4791-af64-e71170f97738",
   "metadata": {},
   "source": [
    "In Pandas, a DataFrame is a two-dimensional, size-mutable, and potentially heterogeneous tabular data structure. It is one of the most commonly used data structures in Pandas and is similar to a spreadsheet or SQL table. A DataFrame consists of rows and columns, where each column can be of a different data type (e.g., integers, floats, strings), and it allows you to store and manipulate structured data efficiently. You can think of a DataFrame as a container for multiple Pandas Series that share the same index.\n",
    "\n",
    "On the other hand, a Pandas Series is a one-dimensional array-like object that can hold data of any type. It is essentially a single column of data with associated labels (index). Think of it as a single column in an Excel spreadsheet or a single attribute in a dataset.\n",
    "\n",
    "Here's an example to illustrate the difference between a DataFrame and a Series:\n",
    "\n"
   ]
  },
  {
   "cell_type": "code",
   "execution_count": 9,
   "id": "e87c70f1-d1d8-40d5-89b0-a0bc090523ed",
   "metadata": {},
   "outputs": [
    {
     "name": "stdout",
     "output_type": "stream",
     "text": [
      "Series:\n",
      "0     Apple\n",
      "1    Banana\n",
      "2    Cherry\n",
      "3      Date\n",
      "dtype: object\n",
      "\n",
      "DataFrame:\n",
      "    Fruit  Quantity\n",
      "0   Apple        10\n",
      "1  Banana         5\n",
      "2  Cherry         8\n",
      "3    Date        12\n"
     ]
    }
   ],
   "source": [
    "import pandas as pd\n",
    "\n",
    "\n",
    "fruits = pd.Series([\"Apple\", \"Banana\", \"Cherry\", \"Date\"])\n",
    "print(\"Series:\")\n",
    "print(fruits)\n",
    "\n",
    "data = {\n",
    "    \"Fruit\": [\"Apple\", \"Banana\", \"Cherry\", \"Date\"],\n",
    "    \"Quantity\": [10, 5, 8, 12]\n",
    "}\n",
    "df = pd.DataFrame(data)\n",
    "print(\"\\nDataFrame:\")\n",
    "print(df)"
   ]
  },
  {
   "cell_type": "markdown",
   "id": "bec7f549-c915-4f73-ae8d-fecaf1337945",
   "metadata": {},
   "source": [
    "Q5. What are some common functions you can use to manipulate data in a Pandas DataFrame? Can\n",
    "you give an example of when you might use one of these functions?"
   ]
  },
  {
   "cell_type": "markdown",
   "id": "b5bb8b6c-6138-45dd-84e8-474d93fc15d2",
   "metadata": {},
   "source": [
    "Selection and Filtering:\n",
    "\n",
    "loc[] and iloc[]: These methods are used to select specific rows and columns by label or integer location, respectively.\n",
    "Example: df.loc[df['Age'] > 25] selects rows where the 'Age' column is greater than 25.\n",
    "\n",
    "Sorting:\n",
    "\n",
    "sort_values(): Sorts the DataFrame by one or more columns.\n",
    "Example: df.sort_values(by='Age') sorts the DataFrame by the 'Age' column in ascending order."
   ]
  },
  {
   "cell_type": "markdown",
   "id": "d5f4bde4-7611-482f-a032-917308242f8d",
   "metadata": {},
   "source": [
    "Q6. Which of the following is mutable in nature Series, DataFrame, Panel?"
   ]
  },
  {
   "cell_type": "markdown",
   "id": "3e758766-15c9-46a4-9cc3-a7c45a95e729",
   "metadata": {},
   "source": [
    "Series: A Pandas Series is mutable.\n",
    "DataFrame: A Pandas DataFrame is also mutable.\n",
    "Panel : A Pandas Panel is immutable."
   ]
  },
  {
   "cell_type": "markdown",
   "id": "f88d6789-d71c-445f-bec0-66f85f05b94a",
   "metadata": {},
   "source": [
    "Q7. Create a DataFrame using multiple Series. Explain with an example."
   ]
  },
  {
   "cell_type": "code",
   "execution_count": 13,
   "id": "f3610c0d-98a1-4346-b181-efadcfbf3549",
   "metadata": {},
   "outputs": [
    {
     "name": "stdout",
     "output_type": "stream",
     "text": [
      "      Name  Grade  Subject  Age\n",
      "0  Apratim     95     Math   25\n",
      "1    Bobby     92  English   30\n",
      "2    Candy     88  Science   27\n",
      "3    David     87  History   45\n"
     ]
    }
   ],
   "source": [
    "import pandas as pd\n",
    "\n",
    "\n",
    "student_names = pd.Series([\"Apratim\", \"Bobby\", \"Candy\", \"David\"])\n",
    "student_grades = pd.Series([95, 92, 88, 87])\n",
    "student_ages = pd.Series([25, 30, 27,45])\n",
    "student_subjects = pd.Series([\"Math\", \"English\", \"Science\", \"History\"])\n",
    "\n",
    "data = {\n",
    "    \"Name\": student_names,\n",
    "    \"Grade\": student_grades,\n",
    "    \"Subject\": student_subjects,\n",
    "    \"Age\":student_ages\n",
    "}\n",
    "\n",
    "df = pd.DataFrame(data)\n",
    "\n",
    "print(df)\n"
   ]
  },
  {
   "cell_type": "code",
   "execution_count": null,
   "id": "6ba9d2f7-04ab-431f-b9a2-ae2a20340a90",
   "metadata": {},
   "outputs": [],
   "source": []
  }
 ],
 "metadata": {
  "kernelspec": {
   "display_name": "Python 3 (ipykernel)",
   "language": "python",
   "name": "python3"
  },
  "language_info": {
   "codemirror_mode": {
    "name": "ipython",
    "version": 3
   },
   "file_extension": ".py",
   "mimetype": "text/x-python",
   "name": "python",
   "nbconvert_exporter": "python",
   "pygments_lexer": "ipython3",
   "version": "3.10.8"
  }
 },
 "nbformat": 4,
 "nbformat_minor": 5
}
