{
 "cells": [
  {
   "cell_type": "markdown",
   "id": "680afa7d-f0e2-4c37-8d4a-de7ef5203795",
   "metadata": {},
   "source": [
    "Q1. Create one variable containing following type of data:"
   ]
  },
  {
   "cell_type": "code",
   "execution_count": 2,
   "id": "c9213d0f-bc5b-4cc8-89c6-17bb972016aa",
   "metadata": {},
   "outputs": [],
   "source": [
    "var= (\"Hello\", [2,4,3,5,8], 7.23, (8, 7, 6, 9, 11))"
   ]
  },
  {
   "cell_type": "markdown",
   "id": "de5fc66b-33c7-456e-b412-cdd8739d3f67",
   "metadata": {},
   "source": [
    "Q2.Given are some following variables containing data:"
   ]
  },
  {
   "cell_type": "markdown",
   "id": "e37b2f14-37b2-4a45-b24d-d02c156e457b",
   "metadata": {},
   "source": [
    "var1 = It's contains a single space charecter ,which makes it is a string.\n",
    "var2= It's also a string because  it is assigned a string value enclosed in single quotes.\n",
    "var3= It's is a list because it is assigned multiple string values enclosed in square brackets.\n",
    "var4 is a float."
   ]
  },
  {
   "cell_type": "markdown",
   "id": "580172a7-a663-4733-9eea-3cd19fcfa732",
   "metadata": {},
   "source": [
    "Q3. Explain the use of the following operators using an example"
   ]
  },
  {
   "cell_type": "markdown",
   "id": "d1cea499-067e-431b-bf71-1c750b8ed964",
   "metadata": {},
   "source": [
    "/ : Division (Divides the number on its left by the number on its right and returns a floating point value.)\n",
    "\n",
    "ex: x = 12\n",
    "y = 3\n",
    "\n",
    "print(x / y)\n",
    "\n",
    "output:4"
   ]
  },
  {
   "cell_type": "markdown",
   "id": "5baf2042-639b-46fe-b4e8-58df4bcb73eb",
   "metadata": {},
   "source": [
    "%  : Modulo (The Python modulo operator calculates the remainder of dividing two values)\n",
    "\n",
    "ex: x = 5\n",
    "y = 2\n",
    "\n",
    "print(x % y)\n",
    "output:1"
   ]
  },
  {
   "cell_type": "markdown",
   "id": "86f3f615-62c7-4195-a0c9-59c86f6d804c",
   "metadata": {},
   "source": [
    "//\t: Floor division (the floor division // rounds the result down to the nearest whole number)\n",
    "\n",
    "ex:x = 15\n",
    "y = 2\n",
    "\n",
    "print(x // y)\n",
    "\n",
    "output:7"
   ]
  },
  {
   "cell_type": "markdown",
   "id": "25560945-2b1e-4dcf-969d-e387f7073ad6",
   "metadata": {},
   "source": [
    "**   :\tExponentiation(The operator that can be used to perform the exponent arithmetic in Python is **)\n",
    "\n",
    "ex:x = 2\n",
    "y = 5\n",
    "\n",
    "print(x ** y)\n",
    "\n",
    "output:32"
   ]
  },
  {
   "cell_type": "markdown",
   "id": "8ff2440f-8d64-4d95-afb7-96911be6e6f3",
   "metadata": {},
   "source": [
    " Q4.Create a list of length 10 of your choice containing multiple types of data. Using for loop print the element and its data type."
   ]
  },
  {
   "cell_type": "code",
   "execution_count": 3,
   "id": "1cedc41c-b31a-43a7-8644-75217bff6f70",
   "metadata": {},
   "outputs": [
    {
     "name": "stdout",
     "output_type": "stream",
     "text": [
      "6 <class 'int'>\n",
      "7.5 <class 'float'>\n",
      "True <class 'bool'>\n",
      "[5, 6, 7] <class 'list'>\n",
      "pwskills <class 'str'>\n",
      "{'name': 'Anish', 'age': 20} <class 'dict'>\n",
      "False <class 'bool'>\n",
      "(8, 9, 10) <class 'tuple'>\n",
      "None <class 'NoneType'>\n",
      "78.23 <class 'float'>\n"
     ]
    }
   ],
   "source": [
    "list= [ 6,7.5, True, [5,6,7],'pwskills',{'name': 'Anish', 'age': 20},False,(8,9,10),None,78.23]\n",
    "\n",
    "for element in list:\n",
    "    print( element, type(element))"
   ]
  },
  {
   "cell_type": "markdown",
   "id": "517359a2-4e75-42c1-8140-5cd9393d9c4e",
   "metadata": {},
   "source": [
    "Q5. Using a while loop, verify  if the number A is purely divisible by number B and if so then how many times it can be divisible>\n"
   ]
  },
  {
   "cell_type": "code",
   "execution_count": 6,
   "id": "3796ae3c-c195-4166-b2c2-e903aefaf78e",
   "metadata": {},
   "outputs": [
    {
     "name": "stdout",
     "output_type": "stream",
     "text": [
      "Number of times X is divisible by Y: 1\n"
     ]
    }
   ],
   "source": [
    "x = 200\n",
    "y = 25\n",
    "c = 0\n",
    "\n",
    "while x % y == 0:\n",
    "    x = x // y\n",
    "    c += 1\n",
    "\n",
    "print(\"Number of times X is divisible by Y:\", c)\n"
   ]
  },
  {
   "cell_type": "markdown",
   "id": "a746174b-bf3d-4f97-9d52-bae05fe5f63d",
   "metadata": {},
   "source": [
    "Q6. Create a list containing 25 int type data. Using for loop and if-else condition print if the element is divisible by 3 or not"
   ]
  },
  {
   "cell_type": "code",
   "execution_count": 8,
   "id": "d0234c88-8fb3-4162-a071-d8b9a8f1509a",
   "metadata": {},
   "outputs": [
    {
     "name": "stdout",
     "output_type": "stream",
     "text": [
      "41 is not divisible by 3\n",
      "12 is divisible by 3\n",
      "8 is not divisible by 3\n",
      "91 is not divisible by 3\n",
      "73 is not divisible by 3\n",
      "1 is not divisible by 3\n",
      "85 is not divisible by 3\n",
      "31 is not divisible by 3\n",
      "1 is not divisible by 3\n",
      "34 is not divisible by 3\n",
      "42 is divisible by 3\n",
      "81 is divisible by 3\n",
      "66 is divisible by 3\n",
      "60 is divisible by 3\n",
      "81 is divisible by 3\n",
      "57 is divisible by 3\n",
      "8 is not divisible by 3\n",
      "19 is not divisible by 3\n",
      "71 is not divisible by 3\n",
      "11 is not divisible by 3\n",
      "57 is divisible by 3\n",
      "22 is not divisible by 3\n",
      "29 is not divisible by 3\n",
      "48 is divisible by 3\n",
      "20 is not divisible by 3\n"
     ]
    }
   ],
   "source": [
    "list= [41, 12, 8, 91, 73, 1, 85, 31, 1, 34, 42, 81, 66, 60, 81, 57, 8, 19, 71, 11, 57, 22, 29, 48, 20]\n",
    "\n",
    "for e in list:\n",
    "    if e % 3 == 0:\n",
    "        print(e, \"is divisible by 3\")\n",
    "    else:\n",
    "        print(e, \"is not divisible by 3\")"
   ]
  },
  {
   "cell_type": "markdown",
   "id": "a78f8a73-2846-40d1-b51e-5ccf3f60931b",
   "metadata": {},
   "source": [
    "Q7. What do you understand about mutable and immutable data types? Give examples for both showing this property."
   ]
  },
  {
   "cell_type": "markdown",
   "id": "3d4b4ef0-3940-4e1a-b362-e01fe2a9cfc4",
   "metadata": {},
   "source": [
    "Immutable Data Types :A Python object is referred to as immutable if we cannot change its value over time. The value of these Python objects is fixed once they are made.\n",
    "Ex: Numbers (Integer, Float, Complex, Decimal, Rational & Booleans),Tuples,Strings\n",
    " "
   ]
  },
  {
   "cell_type": "markdown",
   "id": "d8b7da9d-a844-451e-af90-54e531cfcf4a",
   "metadata": {},
   "source": [
    "Mutable Data Types : The term \"mutable\" in Python refers to an object's capacity to modify its values. These are frequently the things that hold a data collection.\n",
    "Ex:Lists,Dictionaries,Sets,User-Defined Classes "
   ]
  },
  {
   "cell_type": "code",
   "execution_count": null,
   "id": "d2ce2fef-562b-4cff-9195-f7661f0e395b",
   "metadata": {},
   "outputs": [],
   "source": []
  }
 ],
 "metadata": {
  "kernelspec": {
   "display_name": "Python 3 (ipykernel)",
   "language": "python",
   "name": "python3"
  },
  "language_info": {
   "codemirror_mode": {
    "name": "ipython",
    "version": 3
   },
   "file_extension": ".py",
   "mimetype": "text/x-python",
   "name": "python",
   "nbconvert_exporter": "python",
   "pygments_lexer": "ipython3",
   "version": "3.10.8"
  }
 },
 "nbformat": 4,
 "nbformat_minor": 5
}
