{
 "cells": [
  {
   "cell_type": "markdown",
   "id": "f9f538bf-7716-4529-a10f-692373281bfb",
   "metadata": {},
   "source": [
    "Q1. What is the Probability density function?"
   ]
  },
  {
   "cell_type": "markdown",
   "id": "3b301b68-c641-4c14-a8e5-2b0c7a82e1fa",
   "metadata": {},
   "source": [
    "A probability density function (PDF) is a fundamental concept in probability theory and statistics. It is a mathematical function that describes the likelihood of a continuous random variable taking on a specific value. In other words, it specifies the probability distribution of a continuous random variable.\n",
    "\n",
    "The key properties of a probability density function are as follows:\n",
    "\n",
    "1. Non-negative values: The PDF is always non-negative, meaning that the probability of a random variable having a particular value or falling within a particular range is never negative.\n",
    "\n",
    "2. Area under the curve: The total area under the PDF curve over its entire range is equal to 1. This ensures that the probabilities sum up to 1, reflecting the certainty that the random variable must take on some value within its range.\n",
    "\n",
    "3. Probability within a range: The probability of the random variable falling within a specific range can be calculated by integrating the PDF over that range. In other words, the probability of a continuous random variable falling within a given interval is the integral of the PDF over that interval.\n",
    "\n",
    "Mathematically, if X is a continuous random variable and f(x) is its PDF, then the probability that X falls within an interval [a, b] is given by:\n",
    "\n",
    "P(a ≤ X ≤ b) = ∫[a, b] f(x) dx\n",
    "\n",
    "Where ∫ represents integration, and f(x) is the PDF of the random variable X.\n",
    "\n",
    "Common examples of probability density functions include the normal distribution, uniform distribution, exponential distribution, and many others. These PDFs are used to model the likelihood of different outcomes in various statistical and scientific applications."
   ]
  },
  {
   "cell_type": "markdown",
   "id": "4eb4697c-53c1-4350-b6c8-fcc98e5d1329",
   "metadata": {},
   "source": [
    "Q2. What are the types of Probability distribution?"
   ]
  },
  {
   "cell_type": "markdown",
   "id": "97c7c44b-90bf-44c6-acc8-419f552a11d4",
   "metadata": {},
   "source": [
    "Probability distributions are mathematical functions that describe the likelihood of different outcomes for a random variable. There are several types of probability distributions, and they can be broadly categorized into two main groups: discrete probability distributions and continuous probability distributions.\n",
    "\n",
    "1. Discrete Probability Distributions:\n",
    "   - **Bernoulli Distribution:** This distribution models a random experiment with two possible outcomes, usually denoted as \"success\" and \"failure,\" with a fixed probability of success (p) and failure (1 - p).\n",
    "   - **Binomial Distribution:** The binomial distribution represents the number of successes in a fixed number of independent Bernoulli trials. It is characterized by two parameters: the number of trials (n) and the probability of success (p).\n",
    "   - **Poisson Distribution:** The Poisson distribution models the number of events that occur in a fixed interval of time or space when these events happen with a known average rate (λ).\n",
    "\n",
    "2. Continuous Probability Distributions:\n",
    "   - **Normal Distribution (Gaussian Distribution):** The normal distribution is one of the most important continuous probability distributions. It has a bell-shaped curve and is characterized by its mean (μ) and standard deviation (σ).\n",
    "   - **Uniform Distribution:** The uniform distribution has a constant probability density across a defined range. All outcomes within the range are equally likely.\n",
    "   - **Exponential Distribution:** The exponential distribution models the time between events in a Poisson process. It is characterized by the rate parameter (λ) and is often used in reliability and queueing theory.\n",
    "   - **Gamma Distribution:** The gamma distribution is a generalization of the exponential distribution and is used to model the sum of k exponential random variables.\n",
    "   - **Beta Distribution:** The beta distribution is a family of continuous probability distributions defined on the interval [0, 1]. It is often used to model random variables representing proportions or probabilities.\n",
    "   - **Cauchy Distribution:** The Cauchy distribution has heavy tails and lacks a defined mean and variance. It is used in some physics and statistical applications.\n",
    "\n",
    "These are just a few examples of probability distributions, and there are many more. The choice of distribution depends on the nature of the data and the specific application. Probability distributions are essential in statistics and probability theory, as they help describe and analyze various real-world phenomena."
   ]
  },
  {
   "cell_type": "markdown",
   "id": "95a919d2-04bd-4241-b738-a839b07bae28",
   "metadata": {},
   "source": [
    "Q3. Write a Python function to calculate the probability density function of a normal distribution with\n",
    "given mean and standard deviation at a given point."
   ]
  },
  {
   "cell_type": "code",
   "execution_count": 2,
   "id": "af2841a3-66fa-4817-aa5e-6a459c17541e",
   "metadata": {},
   "outputs": [
    {
     "name": "stdout",
     "output_type": "stream",
     "text": [
      "PDF at x = 1.5: 0.12951759566589174\n"
     ]
    }
   ],
   "source": [
    "import math\n",
    "\n",
    "def normal_pdf(x, mean, std_dev):\n",
    "    \n",
    "    if std_dev <= 0:\n",
    "        raise ValueError(\"Standard deviation must be greater than 0.\")\n",
    "    \n",
    "    pdf = 1 / (std_dev * math.sqrt(2 * math.pi)) * math.exp(-((x - mean) ** 2) / (2 * std_dev ** 2))\n",
    "    return pdf\n",
    "\n",
    "mean = 0\n",
    "std_dev = 1\n",
    "x = 1.5\n",
    "pdf_value = normal_pdf(x, mean, std_dev)\n",
    "print(f\"PDF at x = {x}: {pdf_value}\")\n"
   ]
  },
  {
   "cell_type": "markdown",
   "id": "8fa2f15e-1ef0-45fc-820c-1e9778d6f560",
   "metadata": {},
   "source": [
    "Q4. What are the properties of Binomial distribution? Give two examples of events where binomial\n",
    "distribution can be applied."
   ]
  },
  {
   "cell_type": "markdown",
   "id": "a2ffa3d2-82f0-4e1e-9da1-460b0ce6d3d6",
   "metadata": {},
   "source": [
    "The binomial distribution is a discrete probability distribution that models the number of successes in a fixed number of independent Bernoulli trials (experiments with two possible outcomes, typically denoted as \"success\" and \"failure\"). The properties of the binomial distribution are as follows:\n",
    "\n",
    "1. Fixed Number of Trials (n): The binomial distribution assumes a fixed number of identical trials or experiments, denoted as 'n'. In each trial, there are only two possible outcomes: success or failure.\n",
    "\n",
    "2. Independent Trials: Each trial is assumed to be independent of the others. The outcome of one trial does not affect the outcome of another.\n",
    "\n",
    "3. Constant Probability of Success (p): The probability of success (often denoted as 'p') is constant for each trial. The probability of failure is therefore '1 - p'.\n",
    "\n",
    "4. Discrete Outcomes: The binomial random variable X represents the number of successes in 'n' trials, and it can take on discrete values ranging from 0 to 'n'.\n",
    "\n",
    "5. Probability Mass Function (PMF): The probability mass function of the binomial distribution is given by:\n",
    "\n",
    "\\[ P(X = k) = \\binom{n}{k} \\cdot p^k \\cdot (1 - p)^{n - k} \\]\n",
    "\n",
    "Where:\n",
    "- \\( P(X = k) \\) is the probability of getting exactly 'k' successes.\n",
    "- \\( \\binom{n}{k} \\) represents the binomial coefficient, which counts the number of ways to choose 'k' successes out of 'n' trials.\n",
    "- 'p' is the probability of success in a single trial.\n",
    "- '1 - p' is the probability of failure in a single trial.\n",
    "\n",
    "Examples of events where the binomial distribution can be applied:\n",
    "\n",
    "1. Coin Flips: When flipping a fair coin (which has two outcomes, heads and tails) multiple times, the number of heads obtained in a fixed number of flips follows a binomial distribution. For example, you can use the binomial distribution to calculate the probability of getting a certain number of heads in 10 coin flips.\n",
    "\n",
    "2. Quality Control: In a manufacturing process, where each item produced can be classified as either defective or non-defective, the binomial distribution can be applied. For instance, you can use the binomial distribution to determine the probability of a specific number of defective items in a random sample of a fixed size from a production batch.\n",
    "\n",
    "The binomial distribution is a fundamental and widely used probability distribution in various fields, including statistics, engineering, and quality control, where events have two possible outcomes and meet the properties of the binomial distribution."
   ]
  },
  {
   "cell_type": "markdown",
   "id": "9d23e87d-ad59-41c4-8cb9-d9a873b0e82f",
   "metadata": {},
   "source": [
    "Q5. Generate a random sample of size 1000 from a binomial distribution with probability of success 0.4\n",
    "and plot a histogram of the results using matplotlib."
   ]
  },
  {
   "cell_type": "code",
   "execution_count": 3,
   "id": "aca76765-a179-4bbd-940a-c6a569a31acf",
   "metadata": {},
   "outputs": [
    {
     "data": {
      "image/png": "[encoded data removed]",
      "text/plain": [
       "<Figure size 640x480 with 1 Axes>"
      ]
     },
     "metadata": {},
     "output_type": "display_data"
    }
   ],
   "source": [
    "import numpy as np\n",
    "import matplotlib.pyplot as plt\n",
    "\n",
    "\n",
    "n = 1000  \n",
    "p = 0.4   \n",
    "\n",
    "random_sample = np.random.binomial(1, p, n)\n",
    "\n",
    "plt.hist(random_sample, bins=2, edgecolor='k', align='mid', color='lightblue', alpha=0.7)\n",
    "plt.title('Binomial Distribution Random Sample')\n",
    "plt.xlabel('Success (1) / Failure (0)')\n",
    "plt.ylabel('Frequency')\n",
    "plt.xticks([0, 1], ['Failure', 'Success'])\n",
    "plt.show()\n"
   ]
  },
  {
   "cell_type": "markdown",
   "id": "10a9c4f9-e8a2-4928-b5c6-941b0f5db46c",
   "metadata": {},
   "source": [
    "Q6. Write a Python function to calculate the cumulative distribution function of a Poisson distribution\n",
    "with given mean at a given point."
   ]
  },
  {
   "cell_type": "code",
   "execution_count": 4,
   "id": "7313bc1e-b5c9-41e7-9e83-cc8be5ae30b0",
   "metadata": {},
   "outputs": [
    {
     "name": "stdout",
     "output_type": "stream",
     "text": [
      "CDF at k = 2: 0.3208471988621341\n"
     ]
    }
   ],
   "source": [
    "import math\n",
    "\n",
    "def poisson_cdf(k, lambd):\n",
    "    \n",
    "    if k < 0 or lambd < 0:\n",
    "        raise ValueError(\"Both 'k' and 'lambda' must be non-negative.\")\n",
    "    \n",
    "    cdf = 0\n",
    "    for x in range(k + 1):\n",
    "        cdf += math.exp(-lambd) * (lambd ** x) / math.factorial(x)\n",
    "    \n",
    "    return cdf\n",
    "mean = 3.5\n",
    "point = 2\n",
    "cdf_value = poisson_cdf(point, mean)\n",
    "print(f\"CDF at k = {point}: {cdf_value}\")\n"
   ]
  },
  {
   "cell_type": "markdown",
   "id": "1dc38c78-c8b3-460b-8b34-7a687723aa9f",
   "metadata": {},
   "source": [
    "Q7. How Binomial distribution different from Poisson distribution?"
   ]
  },
  {
   "cell_type": "markdown",
   "id": "4dd44f59-dfd0-494b-9a98-bf1d083c9232",
   "metadata": {},
   "source": [
    "The Binomial distribution and the Poisson distribution are both discrete probability distributions, but they differ in their underlying assumptions and use cases. Here are the key differences between the two distributions:\n",
    "\n",
    "1. Number of Trials:\n",
    "   - **Binomial Distribution:** The Binomial distribution is used to model the number of successes (or failures) in a fixed number of independent and identical trials, denoted as 'n'.\n",
    "   - **Poisson Distribution:** The Poisson distribution is used to model the number of events that occur in a fixed interval of time or space. It does not assume a fixed number of trials but rather focuses on the rate of events occurring over a continuous or large number of trials.\n",
    "\n",
    "2. Probability of Success:\n",
    "   - **Binomial Distribution:** In the Binomial distribution, the probability of success ('p') remains constant for each trial. The trials are independent, and the probability of success or failure is the same in each trial.\n",
    "   - **Poisson Distribution:** The Poisson distribution does not have a probability of success. Instead, it is defined by the average rate of events occurring within a fixed interval ('λ').\n",
    "\n",
    "3. Assumptions:\n",
    "   - **Binomial Distribution:** The Binomial distribution assumes a fixed number of trials, each with two possible outcomes (success and failure), and these trials are independent of each other.\n",
    "   - **Poisson Distribution:** The Poisson distribution assumes that the events being counted are rare and random, and the rate of events is relatively low in each interval.\n",
    "\n",
    "4. Nature of Outcomes:\n",
    "   - **Binomial Distribution:** The outcomes in the Binomial distribution are discrete, typically representing the count of successful outcomes within a fixed number of trials.\n",
    "   - **Poisson Distribution:** The outcomes in the Poisson distribution are also discrete, representing the count of events within a continuous or time-based interval.\n",
    "\n",
    "5. Parameters:\n",
    "   - **Binomial Distribution:** The Binomial distribution is characterized by two parameters: the number of trials ('n') and the probability of success ('p').\n",
    "   - **Poisson Distribution:** The Poisson distribution is characterized by a single parameter: the average rate of events ('λ').\n",
    "\n",
    "6. Use Cases:\n",
    "   - **Binomial Distribution:** The Binomial distribution is commonly used for situations where there are a fixed number of trials, such as counting the number of successful coin flips, defective items in a sample, or the number of \"yes\" votes in a fixed-size election.\n",
    "   - **Poisson Distribution:** The Poisson distribution is used when you are interested in modeling rare and random events, such as the number of phone calls received at a call center in a fixed time period, the number of accidents at an intersection in an hour, or the number of emails arriving in a mailbox over a given time.\n",
    "\n",
    "In summary, the Binomial distribution is used for scenarios with a fixed number of trials and a constant probability of success, while the Poisson distribution is suitable for modeling rare and random events with no fixed number of trials, focusing on the rate of events instead."
   ]
  },
  {
   "cell_type": "markdown",
   "id": "a2e39cd4-7760-4d35-85f9-9de2b45b5fc6",
   "metadata": {},
   "source": [
    "Q8. Generate a random sample of size 1000 from a Poisson distribution with mean 5 and calculate the\n",
    "sample mean and variance."
   ]
  },
  {
   "cell_type": "code",
   "execution_count": 5,
   "id": "85812b28-54b5-4603-b4fa-14c182f05408",
   "metadata": {},
   "outputs": [
    {
     "name": "stdout",
     "output_type": "stream",
     "text": [
      "Sample Mean: 4.964\n",
      "Sample Variance: 4.622704000000001\n"
     ]
    }
   ],
   "source": [
    "import numpy as np\n",
    "\n",
    "# Set the parameters\n",
    "sample_size = 1000  # Sample size\n",
    "mean = 5            # Mean of the Poisson distribution\n",
    "\n",
    "# Generate a random sample from the Poisson distribution\n",
    "random_sample = np.random.poisson(mean, sample_size)\n",
    "\n",
    "# Calculate the sample mean\n",
    "sample_mean = np.mean(random_sample)\n",
    "\n",
    "# Calculate the sample variance\n",
    "sample_variance = np.var(random_sample)\n",
    "\n",
    "print(\"Sample Mean:\", sample_mean)\n",
    "print(\"Sample Variance:\", sample_variance)\n"
   ]
  },
  {
   "cell_type": "markdown",
   "id": "9c0ac594-0b69-4f69-bb7b-91b48278001c",
   "metadata": {},
   "source": [
    "Q9. How mean and variance are related in Binomial distribution and Poisson distribution?"
   ]
  },
  {
   "cell_type": "markdown",
   "id": "3b74b181-3705-43b7-91ab-177720c68060",
   "metadata": {},
   "source": [
    "The mean and variance of probability distributions, including the Binomial distribution and the Poisson distribution, are related in the following way:\n",
    "\n",
    "1. **Binomial Distribution:**\n",
    "\n",
    "   - **Mean (μ):** In a Binomial distribution, the mean is equal to the product of the number of trials ('n') and the probability of success in a single trial ('p'). Mathematically, μ = np.\n",
    "   \n",
    "   - **Variance (σ^2):** The variance of the Binomial distribution is given by the product of the number of trials ('n'), the probability of success ('p'), and the probability of failure ('1 - p'). Mathematically, σ^2 = np(1 - p).\n",
    "\n",
    "2. **Poisson Distribution:**\n",
    "\n",
    "   - **Mean (μ):** In a Poisson distribution, the mean (average rate) of events ('λ') is equal to both the mean and the variance. Mathematically, μ = σ^2 = λ.\n",
    "   \n",
    "   - **Variance (σ^2):** The variance of the Poisson distribution is also equal to the mean ('λ'). Mathematically, σ^2 = μ = λ.\n",
    "\n",
    "In summary, for the Binomial distribution, the variance is a function of both the number of trials ('n') and the probability of success ('p'), while for the Poisson distribution, the mean and variance are equal and are solely determined by the average rate of events ('λ'). This means that in a Poisson distribution, the variability is tied to the average rate, and the mean and variance are always the same, making it a unique property of the Poisson distribution.\n",
    "\n",
    "Understanding the relationship between the mean and variance is important in probability and statistics because it provides insights into the spread and behavior of the distribution. For the Binomial and Poisson distributions, this relationship helps in characterizing the variability and shaping the probability mass function."
   ]
  },
  {
   "cell_type": "markdown",
   "id": "00b15f7d-0378-47f5-92ca-d80c67a8ba44",
   "metadata": {},
   "source": [
    "Q10. In normal distribution with respect to mean position, where does the least frequent data appear?"
   ]
  },
  {
   "cell_type": "markdown",
   "id": "c49ada3f-62f5-4cf7-93c4-c1dbdefe37db",
   "metadata": {},
   "source": [
    "In a normal distribution, also known as a Gaussian distribution, the least frequent data points appear in the tails of the distribution, far away from the mean. The normal distribution is a symmetric probability distribution with a bell-shaped curve, and its shape is determined by its mean and standard deviation.\n",
    "\n",
    "The key characteristics of a normal distribution with respect to mean position are as follows:\n",
    "\n",
    "1. The mean (average) of the distribution is located at the center of the curve. This is also the point of highest probability.\n",
    "\n",
    "2. As you move away from the mean in either direction, the probability of observing data points decreases. The farther you go from the mean, the lower the probability of observing data points in those regions.\n",
    "\n",
    "3. The tails of the distribution, which are the extreme values on the left and right sides of the mean, contain the least frequent data points. In other words, data points in the tails are less likely to occur.\n",
    "\n",
    "4. The probability of observing data points in the tails is very low, and these data points represent rare or extreme events.\n",
    "\n",
    "In a standard normal distribution (with a mean of 0 and a standard deviation of 1), the least frequent data points are found in the tails that are more than a few standard deviations away from the mean. Specifically, data points in the tails that are more than 2 or 3 standard deviations from the mean are considered outliers or rare events.\n",
    "\n",
    "This characteristic of the normal distribution is important in statistical analysis and hypothesis testing, as it helps identify extreme values and assess the likelihood of rare events occurring in a dataset."
   ]
  },
  {
   "cell_type": "code",
   "execution_count": null,
   "id": "988a672f-8d79-403e-a47c-8d3f4434d740",
   "metadata": {},
   "outputs": [],
   "source": []
  }
 ],
 "metadata": {
  "kernelspec": {
   "display_name": "Python 3 (ipykernel)",
   "language": "python",
   "name": "python3"
  },
  "language_info": {
   "codemirror_mode": {
    "name": "ipython",
    "version": 3
   },
   "file_extension": ".py",
   "mimetype": "text/x-python",
   "name": "python",
   "nbconvert_exporter": "python",
   "pygments_lexer": "ipython3",
   "version": "3.10.8"
  }
 },
 "nbformat": 4,
 "nbformat_minor": 5
}
